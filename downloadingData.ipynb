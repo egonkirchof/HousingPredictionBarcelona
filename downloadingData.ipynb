{
 "cells": [
  {
   "cell_type": "markdown",
   "metadata": {},
   "source": [
    "Housing prices prediction - Barcelona\n",
    "==================\n",
    "\n",
    "### Downloading data from website\n",
    "\n",
    "Download data from idealista and save it as a mongodb database."
   ]
  },
  {
   "cell_type": "code",
   "execution_count": null,
   "metadata": {},
   "outputs": [],
   "source": [
    "from selenium import webdriver\n",
    "\n",
    "def newBrowser():\n",
    "    return webdriver.Firefox()\n",
    "         \n",
    "browser=None"
   ]
  },
  {
   "cell_type": "code",
   "execution_count": null,
   "metadata": {},
   "outputs": [],
   "source": [
    "from lxml import html\n",
    "from lxml.cssselect import CSSSelector\n",
    "import time\n",
    "import random\n",
    "\n",
    "#Auxiliary functions to extract information from the browser\n",
    "\n",
    "def loadPage(page,browser=browser):\n",
    "    browser.get(page)\n",
    "    return browser.page_source\n",
    "\n",
    "def loadPageTree(page_source):\n",
    "    tree = html.document_fromstring(page_source)\n",
    "    return tree\n",
    "\n",
    "def firstHouse(tree):\n",
    "    element = tree.cssselect('.item-link')\n",
    "    return element[0].get(\"href\") if element else None\n",
    "\n",
    "def getListOfHouses(tree):\n",
    "    houses = [elem.get(\"href\") for elem in tree.cssselect('.item-link')]\n",
    "    return houses\n",
    "    \n",
    "def isLastPage(tree):\n",
    "    return tree.cssselect(\".icon-arrow-right-after\") == []\n",
    "    \n"
   ]
  },
  {
   "cell_type": "code",
   "execution_count": null,
   "metadata": {},
   "outputs": [],
   "source": [
    "# Get the details of the house from the page\n",
    "\n",
    "def getHouseData(tree):\n",
    "    data = {}\n",
    "    price = tree.cssselect(\".info-data-price\")\n",
    "    data[\"price\"] = price[0].text_content() if price else \"\"\n",
    "    features = tree.cssselect(\".info-features\")\n",
    "    data[\"features\"] = [ it.text_content() for idx,it in enumerate(features[0].cssselect(\"span\")) if idx%2==0]  if features else []\n",
    "    descr = tree.cssselect(\".adCommentsLanguage\")\n",
    "    data[\"description\"] = descr[0].text_content() if descr else \"\"\n",
    "    details = tree.cssselect(\".details-property_features\")\n",
    "    if details:\n",
    "        details_house = [ it.text_content() for it in details[0].cssselect(\"li\")] \n",
    "        if len(details)>1:\n",
    "            bdata = [d.cssselect(\"li\") for d in details[1:]] \n",
    "            details_building = [ it.text_content() for d in bdata for it in d] \n",
    "        else:\n",
    "            details_building = []\n",
    "        energy = details[0].cssselect(\"span\") \n",
    "        energy_class = energy[0].get(\"title\") if energy else \"\"\n",
    "    else:\n",
    "        details_house = []\n",
    "        details_building = []\n",
    "        energy_class = \"\"\n",
    "    data[\"details_house\"] = details_house\n",
    "    data[\"details_building\"] = details_building\n",
    "    data[\"energy_class\"] = energy_class\n",
    "    address = tree.cssselect(\"#headerMap\")\n",
    "    address_details = [it.text_content() for it in address[0].cssselect(\"li\")][0:3] if address else []\n",
    "    data[\"address\"] = address_details\n",
    "    \n",
    "    return data\n"
   ]
  },
  {
   "cell_type": "code",
   "execution_count": null,
   "metadata": {},
   "outputs": [],
   "source": [
    "import pymongo\n",
    "\n",
    "# Connection to Mongo DB\n",
    "try:\n",
    "    conn=pymongo.MongoClient()\n",
    "    print(\"connected\")\n",
    "except pymongo.errors.ConnectionFailure as e:\n",
    "    print (\"Could not connect to MongoDB: %s\" % e )\n",
    "\n",
    "db = conn[\"idealista\"]\n",
    "collection = db[\"house_data\"]\n",
    "urls = db[\"urls\"]\n"
   ]
  },
  {
   "cell_type": "code",
   "execution_count": null,
   "metadata": {},
   "outputs": [],
   "source": [
    "urls.count()"
   ]
  },
  {
   "cell_type": "code",
   "execution_count": null,
   "metadata": {},
   "outputs": [],
   "source": [
    "def getHouseId(url): # /inmueble/id/ => id\n",
    "    return url.split(\"/\")[2]\n",
    "    \n",
    "def saveToMongo(houseUrl,data):\n",
    "    house_id = getHouseId(houseUrl)\n",
    "    data[\"id\"] = house_id\n",
    "    collection.replace_one( { \"id\" : house_id },   data, upsert = True )\n",
    "    \n",
    "def saveUrl(source,url):\n",
    "    urls.insert_one( {\"source\":source , \"url\":url})\n",
    "    "
   ]
  },
  {
   "cell_type": "code",
   "execution_count": null,
   "metadata": {},
   "outputs": [],
   "source": [
    "# Method 1. Go to the first house page. From there go to the next indicated at \"Siguiente\"\n",
    "#Not a good solution. Must keep browser open all the time.\n",
    "#If browser closes you have to restart because you don't have a list of houses\n",
    "\n",
    "def getNextHouseFromSource(page): #needed sometimes: for some reason getNextHouse fails\n",
    "    text_next = 'class=\"btn nav next icon-arrow-right-after\" href=\"'\n",
    "    pstart = page.find(text_next)\n",
    "    if pstart==-1:\n",
    "        return None\n",
    "    pstart += len(text_next)\n",
    "    pend = page.find('\"', pstart)+1\n",
    "    return page[pstart:pend]\n",
    "\n",
    "def getNextHouse(page,tree):\n",
    "    next_link = tree.cssselect(\".icon-arrow-right-after\")\n",
    "    next_house = next_link[0].get(\"href\") if next_link else None\n",
    "    if next_house is None: \n",
    "        next_house = getNextHouseFromSource(page)\n",
    "    return next_house\n",
    "    \n",
    "def getHouses(from_start=True):   \n",
    "    if from_start:\n",
    "        p = loadPage(\"https://www.idealista.com/venta-viviendas/barcelona-barcelona/\")\n",
    "        t = loadPageTree(p)\n",
    "        time.sleep(3)\n",
    "        next_house = firstHouse(t)\n",
    "    else:\n",
    "        p = browser.page_source\n",
    "        t = loadPageTree(p)\n",
    "        next_house = getNextHouse(p,t)\n",
    "        \n",
    "    while next_house:\n",
    "        print(next_house,end=\" \")\n",
    "        p = loadPage(\"https://www.idealista.com\"+next_house)\n",
    "        t = loadPageTree(p)\n",
    "        data = getHouseData(t)\n",
    "        saveToMongo(next_house,data)\n",
    "        time.sleep(random.randint(43,59)+10*random.random())\n",
    "        next_house = getNextHouse(p,t)\n",
    "    print(\"done\")\n",
    "       "
   ]
  },
  {
   "cell_type": "code",
   "execution_count": null,
   "metadata": {},
   "outputs": [],
   "source": [
    "#Method 2. First retrieve the list of all houses\n",
    "#Then you can get houses' data one by one by number\n",
    "#This way you can stop and restart the browser as needed\n",
    "\n",
    "def pause():\n",
    "    time.sleep(random.randint(30,50)+5*random.random())\n",
    "    \n",
    "def pageFormat(start,end,page):\n",
    "    res = \"https://www.idealista.com/venta-viviendas/barcelona-barcelona/\"\n",
    "    res += \"con-precio-hasta_{},precio-desde_{}/{}\".format(\n",
    "        end,start, \"pagina-{}.htm\".format(page) if page>1 else \"\")\n",
    "    return res\n",
    "\n",
    "def saveUrls(tree):\n",
    "    #global listHouses (not needed anymore, using mongo)\n",
    "    l = getListOfHouses(tree)\n",
    "    #listHouses.extend(l)\n",
    "    for url in l: \n",
    "        saveUrl(\"idealista\",url)\n",
    "    return len(l)\n",
    "        \n",
    "def getAllHouseUrls(startPrice=50000,incPrice=30000,finalPrice=3000000,startPage=1,loopLimit=100):\n",
    "    pageNumber = startPage\n",
    "    price = startPrice\n",
    "    incr = incPrice\n",
    "    zeros = 0 # sanity check. If something goes wrong, there will be many 0 urls in sequence\n",
    "    \n",
    "    while (price<finalPrice) and (zeros<3) and (loopLimit>0):\n",
    "        pageUrl = pageFormat(price,price+incr-1,pageNumber)\n",
    "        print(pageUrl,end=\"\")\n",
    "        p = loadPage(pageUrl)\n",
    "        t = loadPageTree(p)\n",
    "        l = saveUrls(t)\n",
    "        print(\" (\",l,\")\",loopLimit)\n",
    "        zeros = 0 if l>0 else zeros+1\n",
    "        pause()\n",
    "        if isLastPage(t):\n",
    "            price += incr\n",
    "            pageNumber = 1\n",
    "        else:\n",
    "            pageNumber += 1\n",
    "        loopLimit -= 1\n",
    "    print(\"done\")        \n",
    "       "
   ]
  },
  {
   "cell_type": "code",
   "execution_count": null,
   "metadata": {},
   "outputs": [],
   "source": [
    "def getHousesData(loopLimit=100,browser=browser):\n",
    "    if browser is None:\n",
    "        browser = newBrowser()\n",
    "        time.sleep(5)\n",
    "    # create a list of ursl, after a while the cursor is not available anymore\n",
    "    l_urls = [url[\"url\"] for url in urls.find() if \"removed\" not in url]\n",
    "    random.shuffle(l_urls) # useful if threading\n",
    "    #print(len(l_urls))\n",
    "    for url in l_urls: \n",
    "        houseId = getHouseId(url)\n",
    "        if collection.find({\"id\":houseId}).count()==0:\n",
    "            print(\"(\",houseId,\")\",end=\"\")\n",
    "            p = loadPage(\"https://www.idealista.com\"+url,browser)\n",
    "            remove_it = (\"ya no está publicado en idealista\" in p) or (\"no hay ningún anuncio con ese código\" in p)\n",
    "            if remove_it:\n",
    "                urls.update_one({\"url\":url},{\"$set\":{\"removed\":True}})\n",
    "                print(\"(removed)\",end=\"\")\n",
    "                pause()\n",
    "                continue\n",
    "            t = loadPageTree(p)\n",
    "            data = getHouseData(t)\n",
    "            if data.get(\"price\"):\n",
    "                saveToMongo(url,data)\n",
    "            else:\n",
    "                print(\"error\")\n",
    "                return False\n",
    "            pause()            \n",
    "            loopLimit -= 1        \n",
    "            if loopLimit<1: break\n",
    "    print(\"done\") \n",
    "    return True\n",
    "        "
   ]
  },
  {
   "cell_type": "code",
   "execution_count": 36,
   "metadata": {},
   "outputs": [],
   "source": [
    "from threading import Thread\n",
    "t=[]\n"
   ]
  },
  {
   "cell_type": "code",
   "execution_count": 37,
   "metadata": {
    "scrolled": false
   },
   "outputs": [],
   "source": [
    "def doIt():\n",
    "    browser = newBrowser()\n",
    "    while getHousesData(25,browser):        \n",
    "        time.sleep(400)\n",
    "    browser.close()"
   ]
  },
  {
   "cell_type": "code",
   "execution_count": null,
   "metadata": {},
   "outputs": [],
   "source": [
    "for i in range(5):\n",
    "    tr = Thread(target=doIt)\n",
    "    t.append(tr)\n",
    "    tr.start()"
   ]
  },
  {
   "cell_type": "markdown",
   "metadata": {},
   "source": [
    "# using proxy with selenium\n",
    "\n",
    "myProxy = \"localhost:9050\" \n",
    "\n",
    "profile = webdriver.FirefoxProfile() \n",
    "\n",
    "profile.set_preference(\"network.proxy.type\", 1)\n",
    "\n",
    "profile.set_preference(\"network.proxy.socks\", \"127.0.0.1\")\n",
    "\n",
    "profile.set_preference(\"network.proxy.socks_port\", 9050)\n",
    "\n",
    "profile.update_preferences() \n",
    "\n",
    "browser = webdriver.Firefox(firefox_profile=profile)\n"
   ]
  },
  {
   "cell_type": "code",
   "execution_count": null,
   "metadata": {},
   "outputs": [],
   "source": [
    "99+9"
   ]
  },
  {
   "cell_type": "code",
   "execution_count": null,
   "metadata": {},
   "outputs": [],
   "source": []
  }
 ],
 "metadata": {
  "kernelspec": {
   "display_name": "Python 3",
   "language": "python",
   "name": "python3"
  },
  "language_info": {
   "codemirror_mode": {
    "name": "ipython",
    "version": 3
   },
   "file_extension": ".py",
   "mimetype": "text/x-python",
   "name": "python",
   "nbconvert_exporter": "python",
   "pygments_lexer": "ipython3",
   "version": "3.7.1"
  }
 },
 "nbformat": 4,
 "nbformat_minor": 1
}
