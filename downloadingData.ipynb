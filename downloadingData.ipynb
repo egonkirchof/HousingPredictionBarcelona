{
 "cells": [
  {
   "cell_type": "markdown",
   "metadata": {},
   "source": [
    "Housing prices prediction - Barcelona\n",
    "==================\n",
    "\n",
    "### Downloading data from website\n",
    "\n",
    "Download data from idealista and save it as a mongodb database."
   ]
  },
  {
   "cell_type": "code",
   "execution_count": 157,
   "metadata": {},
   "outputs": [],
   "source": [
    "from selenium import webdriver\n",
    "\n",
    "def newBrowser():\n",
    "    return webdriver.Firefox()\n",
    "         \n"
   ]
  },
  {
   "cell_type": "code",
   "execution_count": 135,
   "metadata": {},
   "outputs": [],
   "source": [
    "from lxml import html\n",
    "from lxml.cssselect import CSSSelector\n",
    "import time\n",
    "\n",
    "def loadPage(page):\n",
    "    browser.get(page)\n",
    "    return browser.page_source\n",
    "\n",
    "def loadPageTree(page_source):\n",
    "    tree = html.document_fromstring(page_source)\n",
    "    return tree\n",
    "\n",
    "def firstHouse(tree):\n",
    "    element = tree.cssselect('.item-link')\n",
    "    if element:\n",
    "        return element[0].get(\"href\")\n",
    "    return None\n",
    "\n",
    "def getListOfHouses(tree):\n",
    "    houses = [elem.get(\"href\") for elem in tree.cssselect('.item-link')]\n",
    "    return houses\n",
    "    \n",
    "def isLastPage(tree):\n",
    "    return tree.cssselect(\".icon-arrow-right-after\") == []\n",
    "    \n"
   ]
  },
  {
   "cell_type": "code",
   "execution_count": 99,
   "metadata": {},
   "outputs": [],
   "source": [
    "def getHouseData(tree):\n",
    "    data = {}\n",
    "    price = tree.cssselect(\".info-data-price\")\n",
    "    data[\"price\"] = price[0].text_content() if price else \"\"\n",
    "    features = tree.cssselect(\".info-features\")\n",
    "    data[\"features\"] = [ it.text_content() for idx,it in enumerate(features[0].cssselect(\"span\")) if idx%2==0]  if features else []\n",
    "    descr = tree.cssselect(\".adCommentsLanguage\")\n",
    "    data[\"description\"] = descr[0].text_content() if descr else \"\"\n",
    "    details = t.cssselect(\".details-property_features\")\n",
    "    if details:\n",
    "        details_house = [ it.text_content() for it in details[0].cssselect(\"li\")] \n",
    "        if len(details)>1:\n",
    "            bdata = [d.cssselect(\"li\") for d in details[1:]] \n",
    "            details_building = [ it.text_content() for d in bdata for it in d] \n",
    "        else:\n",
    "            details_building = []\n",
    "        energy = details[0].cssselect(\"span\") \n",
    "        energy_class = energy[0].get(\"title\") if energy else \"\"\n",
    "    else:\n",
    "        details_house = []\n",
    "        details_building = []\n",
    "        energy_class = \"\"\n",
    "    data[\"details_house\"] = details_house\n",
    "    data[\"details_building\"] = details_building\n",
    "    data[\"energy_class\"] = energy_class\n",
    "    address = t.cssselect(\"#headerMap\")\n",
    "    address_details = [it.text_content() for it in address[0].cssselect(\"li\")][0:3] if address else []\n",
    "    data[\"address\"] = address_details\n",
    "    \n",
    "    return data\n"
   ]
  },
  {
   "cell_type": "code",
   "execution_count": 185,
   "metadata": {},
   "outputs": [
    {
     "name": "stdout",
     "output_type": "stream",
     "text": [
      "connected\n"
     ]
    }
   ],
   "source": [
    "import pymongo\n",
    "\n",
    "# Connection to Mongo DB\n",
    "try:\n",
    "    conn=pymongo.MongoClient()\n",
    "    print(\"connected\")\n",
    "except pymongo.errors.ConnectionFailure as e:\n",
    "    print (\"Could not connect to MongoDB: %s\" % e )\n",
    "\n",
    "db = conn[\"idealista\"]\n",
    "collection = db[\"houses2\"]\n",
    "\n"
   ]
  },
  {
   "cell_type": "code",
   "execution_count": 149,
   "metadata": {},
   "outputs": [],
   "source": [
    "def saveToMongo(houseUrl,data):\n",
    "    house_id = houseUrl.split(\"/\")[2]\n",
    "    data[\"id\"] = house_id\n",
    "    collection.replace_one( { \"id\" : house_id },   data, upsert = True )"
   ]
  },
  {
   "cell_type": "code",
   "execution_count": 205,
   "metadata": {},
   "outputs": [],
   "source": [
    "browser = newBrowser()"
   ]
  },
  {
   "cell_type": "code",
   "execution_count": 161,
   "metadata": {},
   "outputs": [],
   "source": [
    "browser.get(\"https://www.idealista.com/venta-viviendas/barcelona-barcelona/\")"
   ]
  },
  {
   "cell_type": "code",
   "execution_count": 202,
   "metadata": {},
   "outputs": [],
   "source": [
    "import random\n",
    "\n",
    "listHouses = []\n",
    "\n",
    "def getNextHouseFromSource(page):\n",
    "    text_next = 'class=\"btn nav next icon-arrow-right-after\" href=\"'\n",
    "    pstart = page.find(text_next)\n",
    "    if pstart==-1:\n",
    "        return None\n",
    "    pstart += len(text_next)\n",
    "    pend = page.find('\"', pstart)+1\n",
    "    return page[pstart:pend]\n",
    "\n",
    "def getNextHouse(page,tree):\n",
    "    next_link = tree.cssselect(\".icon-arrow-right-after\")\n",
    "    next_house = next_link[0].get(\"href\") if next_link else None\n",
    "    if next_house is None: \n",
    "        next_house = getNextHouseFromSource(page)\n",
    "    return next_house\n",
    "\n",
    "def pageFormat(start,end,page):\n",
    "    res = \"https://www.idealista.com/venta-viviendas/barcelona-barcelona/\"\n",
    "    res += \"con-precio-hasta_{},precio-desde_{}/{}\".format(\n",
    "        end,start, \"pagina-{}.htm\".format(page) if page>1 else \"\")\n",
    "    return res\n",
    "\n",
    "def mainLoop2(startPrice=50000,incPrice=50000,finalPrice=3000000,startPage=1):\n",
    "    pageNumber = startPage\n",
    "    price = startPrice\n",
    "    incr = incPrice\n",
    "    global listHouses\n",
    "    while price<finalPrice:\n",
    "        pageUrl = pageFormat(price,price+incr,pageNumber)\n",
    "        print(pageUrl)\n",
    "        p = loadPage(pageUrl)\n",
    "        t = loadPageTree(p)\n",
    "        l = getListOfHouses(t)\n",
    "        print(l)\n",
    "        listHouses.extend(l)\n",
    "        time.sleep(random.randint(11,20)+10*random.random())\n",
    "        if isLastPage(t):\n",
    "            price += incr\n",
    "            pageNumber = 1\n",
    "        else:\n",
    "            pageNumber += 1\n",
    "    print(\"done\")        \n",
    "        \n",
    "    \n",
    "    \n",
    "#Not a good solution. Must keep browser open if you want to restart.\n",
    "#If browser closes you have to restart because you don't have a list of houses\n",
    "def mainLoop(from_start=True):   \n",
    "    if from_start:\n",
    "        p = loadPage(\"https://www.idealista.com/venta-viviendas/barcelona-barcelona/\")\n",
    "        t = loadPageTree(p)\n",
    "        time.sleep(3)\n",
    "        next_house = firstHouse(t)\n",
    "    else:\n",
    "        p = browser.page_source\n",
    "        t = loadPageTree(p)\n",
    "        next_house = getNextHouse(p,t)\n",
    "        \n",
    "    while next_house:\n",
    "        print(next_house,end=\" \")\n",
    "        p = loadPage(\"https://www.idealista.com\"+next_house)\n",
    "        t = loadPageTree(p)\n",
    "        data = getHouseData(t)\n",
    "        saveToMongo(next_house,data)\n",
    "        time.sleep(random.randint(43,59)+10*random.random())\n",
    "        next_house = getNextHouse(p,t)\n",
    "    print(\"done\")\n",
    "    \n",
    "    \n",
    "\n",
    " \n",
    "    "
   ]
  },
  {
   "cell_type": "code",
   "execution_count": 204,
   "metadata": {},
   "outputs": [
    {
     "data": {
      "text/plain": [
       "<selenium.webdriver.firefox.webdriver.WebDriver (session=\"f39f712f-70ba-4cf5-bf7d-55eacc0d6e0a\")>"
      ]
     },
     "execution_count": 204,
     "metadata": {},
     "output_type": "execute_result"
    }
   ],
   "source": [
    "browser"
   ]
  },
  {
   "cell_type": "code",
   "execution_count": 203,
   "metadata": {},
   "outputs": [
    {
     "name": "stdout",
     "output_type": "stream",
     "text": [
      "https://www.idealista.com/venta-viviendas/barcelona-barcelona/con-precio-hasta_100000,precio-desde_50000/\n",
      "['/inmueble/82612668/', '/inmueble/87706449/', '/inmueble/87756990/', '/inmueble/87695282/', '/inmueble/87519763/', '/inmueble/87774604/', '/inmueble/87850465/', '/inmueble/84664399/', '/inmueble/86935109/', '/inmueble/87515466/', '/inmueble/85764466/', '/inmueble/87903080/', '/inmueble/37124609/', '/inmueble/85711258/', '/inmueble/87957922/', '/inmueble/87934541/', '/inmueble/87955509/', '/inmueble/87744198/', '/inmueble/87939083/', '/inmueble/87802356/', '/inmueble/81902652/', '/inmueble/87538964/', '/inmueble/86568857/', '/inmueble/82840221/', '/inmueble/87393330/', '/inmueble/87918338/', '/inmueble/87598310/', '/inmueble/87518241/', '/inmueble/83272755/', '/inmueble/87933063/']\n",
      "https://www.idealista.com/venta-viviendas/barcelona-barcelona/con-precio-hasta_100000,precio-desde_50000/pagina-2.html\n",
      "[]\n",
      "https://www.idealista.com/venta-viviendas/barcelona-barcelona/con-precio-hasta_150000,precio-desde_100000/\n",
      "['/inmueble/87950796/', '/inmueble/87122310/', '/inmueble/87684802/', '/inmueble/87069744/', '/inmueble/87654282/', '/inmueble/86344549/', '/inmueble/87841847/', '/inmueble/87109946/', '/inmueble/87875738/', '/inmueble/87951795/', '/inmueble/87835846/', '/inmueble/85947993/', '/inmueble/87939338/', '/inmueble/87953550/', '/inmueble/87956465/', '/inmueble/87955498/', '/inmueble/87867690/', '/inmueble/86353074/', '/inmueble/87617026/', '/inmueble/87178825/', '/inmueble/86169130/', '/inmueble/85922784/', '/inmueble/85865663/', '/inmueble/85739344/', '/inmueble/30115379/', '/inmueble/85680588/', '/inmueble/87911526/', '/inmueble/87706527/', '/inmueble/87806826/', '/inmueble/87437433/']\n",
      "https://www.idealista.com/venta-viviendas/barcelona-barcelona/con-precio-hasta_150000,precio-desde_100000/pagina-2.html\n",
      "[]\n",
      "https://www.idealista.com/venta-viviendas/barcelona-barcelona/con-precio-hasta_200000,precio-desde_150000/\n",
      "['/inmueble/85852120/', '/inmueble/87498440/', '/inmueble/85849533/', '/inmueble/87916907/', '/inmueble/87918976/', '/inmueble/85387567/', '/inmueble/87633240/', '/inmueble/87433052/', '/inmueble/87100557/', '/inmueble/85701315/', '/inmueble/87607160/', '/inmueble/87717144/', '/inmueble/87704780/', '/inmueble/87551598/', '/inmueble/87617083/', '/inmueble/87504627/', '/inmueble/87888869/', '/inmueble/87779052/', '/inmueble/85450324/', '/inmueble/87507971/', '/inmueble/86614212/', '/inmueble/87778861/', '/inmueble/87344666/', '/inmueble/87710042/', '/inmueble/86581452/', '/inmueble/85691932/', '/inmueble/87717131/', '/inmueble/87428754/', '/inmueble/87381269/', '/inmueble/87013636/']\n",
      "https://www.idealista.com/venta-viviendas/barcelona-barcelona/con-precio-hasta_200000,precio-desde_150000/pagina-2.html\n",
      "[]\n",
      "https://www.idealista.com/venta-viviendas/barcelona-barcelona/con-precio-hasta_250000,precio-desde_200000/\n",
      "['/inmueble/84038324/', '/inmueble/86605748/', '/inmueble/87285537/', '/inmueble/86993508/', '/inmueble/87239303/', '/inmueble/87732709/', '/inmueble/87704348/', '/inmueble/84576145/', '/inmueble/86572000/', '/inmueble/87956412/', '/inmueble/84895580/', '/inmueble/87498440/', '/inmueble/87921711/', '/inmueble/87916907/', '/inmueble/87461176/', '/inmueble/87954611/', '/inmueble/87864440/', '/inmueble/87875420/', '/inmueble/85563630/', '/inmueble/87298548/', '/inmueble/87120789/', '/inmueble/87793749/', '/inmueble/86724110/', '/inmueble/87852947/', '/inmueble/87717144/', '/inmueble/87684801/', '/inmueble/87643569/', '/inmueble/87643564/', '/inmueble/87643563/', '/inmueble/87557369/']\n",
      "https://www.idealista.com/venta-viviendas/barcelona-barcelona/con-precio-hasta_250000,precio-desde_200000/pagina-2.html\n",
      "[]\n",
      "https://www.idealista.com/venta-viviendas/barcelona-barcelona/con-precio-hasta_300000,precio-desde_250000/\n"
     ]
    },
    {
     "ename": "NoSuchWindowException",
     "evalue": "Message: Browsing context has been discarded\n",
     "output_type": "error",
     "traceback": [
      "\u001b[0;31m---------------------------------------------------------------------------\u001b[0m",
      "\u001b[0;31mNoSuchWindowException\u001b[0m                     Traceback (most recent call last)",
      "\u001b[0;32m<ipython-input-203-ebd73e4e49c6>\u001b[0m in \u001b[0;36m<module>\u001b[0;34m\u001b[0m\n\u001b[0;32m----> 1\u001b[0;31m \u001b[0mmainLoop2\u001b[0m\u001b[0;34m(\u001b[0m\u001b[0;34m)\u001b[0m\u001b[0;34m\u001b[0m\u001b[0;34m\u001b[0m\u001b[0m\n\u001b[0m",
      "\u001b[0;32m<ipython-input-202-c98b616818c0>\u001b[0m in \u001b[0;36mmainLoop2\u001b[0;34m(startPrice, incPrice, finalPrice, startPage)\u001b[0m\n\u001b[1;32m     27\u001b[0m         \u001b[0mpageUrl\u001b[0m \u001b[0;34m=\u001b[0m \u001b[0mpageFormat\u001b[0m\u001b[0;34m(\u001b[0m\u001b[0mprice\u001b[0m\u001b[0;34m,\u001b[0m\u001b[0mprice\u001b[0m\u001b[0;34m+\u001b[0m\u001b[0mincr\u001b[0m\u001b[0;34m,\u001b[0m\u001b[0mpageNumber\u001b[0m\u001b[0;34m)\u001b[0m\u001b[0;34m\u001b[0m\u001b[0;34m\u001b[0m\u001b[0m\n\u001b[1;32m     28\u001b[0m         \u001b[0mprint\u001b[0m\u001b[0;34m(\u001b[0m\u001b[0mpageUrl\u001b[0m\u001b[0;34m)\u001b[0m\u001b[0;34m\u001b[0m\u001b[0;34m\u001b[0m\u001b[0m\n\u001b[0;32m---> 29\u001b[0;31m         \u001b[0mp\u001b[0m \u001b[0;34m=\u001b[0m \u001b[0mloadPage\u001b[0m\u001b[0;34m(\u001b[0m\u001b[0mpageUrl\u001b[0m\u001b[0;34m)\u001b[0m\u001b[0;34m\u001b[0m\u001b[0;34m\u001b[0m\u001b[0m\n\u001b[0m\u001b[1;32m     30\u001b[0m         \u001b[0mt\u001b[0m \u001b[0;34m=\u001b[0m \u001b[0mloadPageTree\u001b[0m\u001b[0;34m(\u001b[0m\u001b[0mp\u001b[0m\u001b[0;34m)\u001b[0m\u001b[0;34m\u001b[0m\u001b[0;34m\u001b[0m\u001b[0m\n\u001b[1;32m     31\u001b[0m         \u001b[0ml\u001b[0m \u001b[0;34m=\u001b[0m \u001b[0mgetListOfHouses\u001b[0m\u001b[0;34m(\u001b[0m\u001b[0mt\u001b[0m\u001b[0;34m)\u001b[0m\u001b[0;34m\u001b[0m\u001b[0;34m\u001b[0m\u001b[0m\n",
      "\u001b[0;32m<ipython-input-135-7caf56cbe937>\u001b[0m in \u001b[0;36mloadPage\u001b[0;34m(page)\u001b[0m\n\u001b[1;32m      5\u001b[0m \u001b[0;32mdef\u001b[0m \u001b[0mloadPage\u001b[0m\u001b[0;34m(\u001b[0m\u001b[0mpage\u001b[0m\u001b[0;34m)\u001b[0m\u001b[0;34m:\u001b[0m\u001b[0;34m\u001b[0m\u001b[0;34m\u001b[0m\u001b[0m\n\u001b[1;32m      6\u001b[0m     \u001b[0mbrowser\u001b[0m\u001b[0;34m.\u001b[0m\u001b[0mget\u001b[0m\u001b[0;34m(\u001b[0m\u001b[0mpage\u001b[0m\u001b[0;34m)\u001b[0m\u001b[0;34m\u001b[0m\u001b[0;34m\u001b[0m\u001b[0m\n\u001b[0;32m----> 7\u001b[0;31m     \u001b[0;32mreturn\u001b[0m \u001b[0mbrowser\u001b[0m\u001b[0;34m.\u001b[0m\u001b[0mpage_source\u001b[0m\u001b[0;34m\u001b[0m\u001b[0;34m\u001b[0m\u001b[0m\n\u001b[0m\u001b[1;32m      8\u001b[0m \u001b[0;34m\u001b[0m\u001b[0m\n\u001b[1;32m      9\u001b[0m \u001b[0;32mdef\u001b[0m \u001b[0mloadPageTree\u001b[0m\u001b[0;34m(\u001b[0m\u001b[0mpage_source\u001b[0m\u001b[0;34m)\u001b[0m\u001b[0;34m:\u001b[0m\u001b[0;34m\u001b[0m\u001b[0;34m\u001b[0m\u001b[0m\n",
      "\u001b[0;32m~/anaconda3/lib/python3.7/site-packages/selenium/webdriver/remote/webdriver.py\u001b[0m in \u001b[0;36mpage_source\u001b[0;34m(self)\u001b[0m\n\u001b[1;32m    677\u001b[0m             \u001b[0mdriver\u001b[0m\u001b[0;34m.\u001b[0m\u001b[0mpage_source\u001b[0m\u001b[0;34m\u001b[0m\u001b[0;34m\u001b[0m\u001b[0m\n\u001b[1;32m    678\u001b[0m         \"\"\"\n\u001b[0;32m--> 679\u001b[0;31m         \u001b[0;32mreturn\u001b[0m \u001b[0mself\u001b[0m\u001b[0;34m.\u001b[0m\u001b[0mexecute\u001b[0m\u001b[0;34m(\u001b[0m\u001b[0mCommand\u001b[0m\u001b[0;34m.\u001b[0m\u001b[0mGET_PAGE_SOURCE\u001b[0m\u001b[0;34m)\u001b[0m\u001b[0;34m[\u001b[0m\u001b[0;34m'value'\u001b[0m\u001b[0;34m]\u001b[0m\u001b[0;34m\u001b[0m\u001b[0;34m\u001b[0m\u001b[0m\n\u001b[0m\u001b[1;32m    680\u001b[0m \u001b[0;34m\u001b[0m\u001b[0m\n\u001b[1;32m    681\u001b[0m     \u001b[0;32mdef\u001b[0m \u001b[0mclose\u001b[0m\u001b[0;34m(\u001b[0m\u001b[0mself\u001b[0m\u001b[0;34m)\u001b[0m\u001b[0;34m:\u001b[0m\u001b[0;34m\u001b[0m\u001b[0;34m\u001b[0m\u001b[0m\n",
      "\u001b[0;32m~/anaconda3/lib/python3.7/site-packages/selenium/webdriver/remote/webdriver.py\u001b[0m in \u001b[0;36mexecute\u001b[0;34m(self, driver_command, params)\u001b[0m\n\u001b[1;32m    319\u001b[0m         \u001b[0mresponse\u001b[0m \u001b[0;34m=\u001b[0m \u001b[0mself\u001b[0m\u001b[0;34m.\u001b[0m\u001b[0mcommand_executor\u001b[0m\u001b[0;34m.\u001b[0m\u001b[0mexecute\u001b[0m\u001b[0;34m(\u001b[0m\u001b[0mdriver_command\u001b[0m\u001b[0;34m,\u001b[0m \u001b[0mparams\u001b[0m\u001b[0;34m)\u001b[0m\u001b[0;34m\u001b[0m\u001b[0;34m\u001b[0m\u001b[0m\n\u001b[1;32m    320\u001b[0m         \u001b[0;32mif\u001b[0m \u001b[0mresponse\u001b[0m\u001b[0;34m:\u001b[0m\u001b[0;34m\u001b[0m\u001b[0;34m\u001b[0m\u001b[0m\n\u001b[0;32m--> 321\u001b[0;31m             \u001b[0mself\u001b[0m\u001b[0;34m.\u001b[0m\u001b[0merror_handler\u001b[0m\u001b[0;34m.\u001b[0m\u001b[0mcheck_response\u001b[0m\u001b[0;34m(\u001b[0m\u001b[0mresponse\u001b[0m\u001b[0;34m)\u001b[0m\u001b[0;34m\u001b[0m\u001b[0;34m\u001b[0m\u001b[0m\n\u001b[0m\u001b[1;32m    322\u001b[0m             response['value'] = self._unwrap_value(\n\u001b[1;32m    323\u001b[0m                 response.get('value', None))\n",
      "\u001b[0;32m~/anaconda3/lib/python3.7/site-packages/selenium/webdriver/remote/errorhandler.py\u001b[0m in \u001b[0;36mcheck_response\u001b[0;34m(self, response)\u001b[0m\n\u001b[1;32m    240\u001b[0m                 \u001b[0malert_text\u001b[0m \u001b[0;34m=\u001b[0m \u001b[0mvalue\u001b[0m\u001b[0;34m[\u001b[0m\u001b[0;34m'alert'\u001b[0m\u001b[0;34m]\u001b[0m\u001b[0;34m.\u001b[0m\u001b[0mget\u001b[0m\u001b[0;34m(\u001b[0m\u001b[0;34m'text'\u001b[0m\u001b[0;34m)\u001b[0m\u001b[0;34m\u001b[0m\u001b[0;34m\u001b[0m\u001b[0m\n\u001b[1;32m    241\u001b[0m             \u001b[0;32mraise\u001b[0m \u001b[0mexception_class\u001b[0m\u001b[0;34m(\u001b[0m\u001b[0mmessage\u001b[0m\u001b[0;34m,\u001b[0m \u001b[0mscreen\u001b[0m\u001b[0;34m,\u001b[0m \u001b[0mstacktrace\u001b[0m\u001b[0;34m,\u001b[0m \u001b[0malert_text\u001b[0m\u001b[0;34m)\u001b[0m\u001b[0;34m\u001b[0m\u001b[0;34m\u001b[0m\u001b[0m\n\u001b[0;32m--> 242\u001b[0;31m         \u001b[0;32mraise\u001b[0m \u001b[0mexception_class\u001b[0m\u001b[0;34m(\u001b[0m\u001b[0mmessage\u001b[0m\u001b[0;34m,\u001b[0m \u001b[0mscreen\u001b[0m\u001b[0;34m,\u001b[0m \u001b[0mstacktrace\u001b[0m\u001b[0;34m)\u001b[0m\u001b[0;34m\u001b[0m\u001b[0;34m\u001b[0m\u001b[0m\n\u001b[0m\u001b[1;32m    243\u001b[0m \u001b[0;34m\u001b[0m\u001b[0m\n\u001b[1;32m    244\u001b[0m     \u001b[0;32mdef\u001b[0m \u001b[0m_value_or_default\u001b[0m\u001b[0;34m(\u001b[0m\u001b[0mself\u001b[0m\u001b[0;34m,\u001b[0m \u001b[0mobj\u001b[0m\u001b[0;34m,\u001b[0m \u001b[0mkey\u001b[0m\u001b[0;34m,\u001b[0m \u001b[0mdefault\u001b[0m\u001b[0;34m)\u001b[0m\u001b[0;34m:\u001b[0m\u001b[0;34m\u001b[0m\u001b[0;34m\u001b[0m\u001b[0m\n",
      "\u001b[0;31mNoSuchWindowException\u001b[0m: Message: Browsing context has been discarded\n"
     ]
    }
   ],
   "source": [
    "mainLoop2()"
   ]
  },
  {
   "cell_type": "code",
   "execution_count": 189,
   "metadata": {},
   "outputs": [
    {
     "data": {
      "text/plain": [
       "{'_id': ObjectId('5de777e67aaa0f4e190bfc21'),\n",
       " 'price': '349.000 €',\n",
       " 'features': [' 91 m² ', ' 5 hab. ', ' 4ª planta con ascensor '],\n",
       " 'description': ' \"Espacioso piso a reformar situado en un edificio de 1930 en el acogedor barrio de la Nova Esquerra de l’Eixample. Se accede al edificio por una amplia entrada con ascensor. La escalera tiene ventana al exterior en cada rellano, por lo cual es también luminosa y aireada. Una vez en la vivienda nos damos cuenta de la luz que tiene, ya que se trata de un piso pasante y todas las estancias tienen luz natural, ya sea de la calle, del patio de manzana o del patio de luces descubierto. Actualmente dispone de una amplia entrada, 5 habitaciones (1 de ellas ideal para despacho o vestidor), 1 baño, cocina independiente, lavadero y salón-comedor. Las posibilidades de reforma son diferentes e interesantes según los espacios que se deseen crear por ser las paredes mayoritariamente tabiques.La propiedad está situada en La Nova Esquerra de l’Eixample, excelente ubicación para residir o invertir, rodeada de servicios y negocios en donde podrá encontrar todo lo que desea en un mismo lugar. Una agradable zona, bien comunicada mediante diferentes medios de transporte y cercana a la estación de tren de Sants, a Plaça Espanya, al Parque Joan Miró o al Hospital Clinic y a vías principales como Avinguda Roma, Aragó, Josep Tarradellas o Diagonal.\" ',\n",
       " 'details_house': ['205 m² construidos',\n",
       "  '4 habitaciones',\n",
       "  '3 baños',\n",
       "  'Segunda mano/buen estado',\n",
       "  'Armarios empotrados',\n",
       "  'Orientación norte, este',\n",
       "  'Calefacción individual: Gas natural'],\n",
       " 'details_building': [' Planta 1ª exterior ',\n",
       "  ' Con ascensor ',\n",
       "  ' Aire acondicionado '],\n",
       " 'energy_class': 'd',\n",
       " 'address': [' ',\n",
       "  ' Barrio Sant Gervasi - Galvany ',\n",
       "  ' Distrito Sarrià-Sant Gervasi '],\n",
       " 'id': '87007928'}"
      ]
     },
     "execution_count": 189,
     "metadata": {},
     "output_type": "execute_result"
    }
   ],
   "source": [
    "collection.find_one()"
   ]
  },
  {
   "cell_type": "code",
   "execution_count": 182,
   "metadata": {},
   "outputs": [
    {
     "name": "stdout",
     "output_type": "stream",
     "text": [
      "/inmueble/87916907/\n"
     ]
    }
   ],
   "source": [
    "print(t.cssselect(\".icon-arrow-right-after\")[0].get(\"href\"))"
   ]
  },
  {
   "cell_type": "code",
   "execution_count": 178,
   "metadata": {},
   "outputs": [
    {
     "data": {
      "text/plain": [
       "'/inmueble/87916907/\"'"
      ]
     },
     "execution_count": 178,
     "metadata": {},
     "output_type": "execute_result"
    }
   ],
   "source": [
    "p = browser.page_source\n"
   ]
  },
  {
   "cell_type": "code",
   "execution_count": null,
   "metadata": {},
   "outputs": [],
   "source": []
  }
 ],
 "metadata": {
  "kernelspec": {
   "display_name": "Python 3",
   "language": "python",
   "name": "python3"
  },
  "language_info": {
   "codemirror_mode": {
    "name": "ipython",
    "version": 3
   },
   "file_extension": ".py",
   "mimetype": "text/x-python",
   "name": "python",
   "nbconvert_exporter": "python",
   "pygments_lexer": "ipython3",
   "version": "3.7.1"
  }
 },
 "nbformat": 4,
 "nbformat_minor": 1
}
