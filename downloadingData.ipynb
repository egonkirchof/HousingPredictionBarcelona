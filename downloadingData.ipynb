{
 "cells": [
  {
   "cell_type": "markdown",
   "metadata": {},
   "source": [
    "Housing prices prediction - Barcelona\n",
    "==================\n",
    "\n",
    "### Downloading data from website\n",
    "\n",
    "Download data from idealista and save it as a mongodb database."
   ]
  },
  {
   "cell_type": "code",
   "execution_count": 12,
   "metadata": {},
   "outputs": [
    {
     "name": "stdout",
     "output_type": "stream",
     "text": [
      "https://www.idealista.com/venta-viviendas/barcelona-barcelona/con-precio-hasta_80000,precio-desde_60000/?ordenado-por=fecha-publicacion-asc\n"
     ]
    }
   ],
   "source": [
    "from selenium import webdriver\n",
    "browser = webdriver.Firefox()\n",
    "\n",
    "def pageFormat(start,end,page):\n",
    "    res = \"https://www.idealista.com/venta-viviendas/barcelona-barcelona/\"\n",
    "    res += \"con-precio-hasta_{},precio-desde_{}/{}?ordenado-por=fecha-publicacion-asc\".format(\n",
    "        end,start, \"pagina-{}.html\".format(page) if page>1 else \"\")\n",
    "    return res\n",
    "\n",
    "\n"
   ]
  },
  {
   "cell_type": "code",
   "execution_count": 30,
   "metadata": {},
   "outputs": [],
   "source": [
    "from lxml import html\n",
    "from lxml.cssselect import CSSSelector\n",
    "import time\n",
    "\n",
    "def loadPage(page):\n",
    "    browser.get(page)\n",
    "    return browser.page_source\n",
    "\n",
    "def loadPageTree(page_source):\n",
    "    tree = html.document_fromstring(page_source)\n",
    "    return tree\n",
    "\n",
    "def getListOfHouses(tree):\n",
    "    houses = [elem.get(\"href\") for elem in tree.cssselect('.item-link')]\n",
    "    return houses\n",
    "    \n",
    "def isLastPage(tree):\n",
    "    return tree.cssselect(\".icon-arrow-right-after\") == []\n",
    "    \n",
    "price_to = 80000\n",
    "price_from = 60000\n",
    "page_number = 1\n",
    "page = pageFormat(price_from,price_to,page_number)\n"
   ]
  },
  {
   "cell_type": "code",
   "execution_count": 32,
   "metadata": {},
   "outputs": [],
   "source": [
    "\n",
    "p = loadPage(\"https://www.idealista.com/inmueble/87007928/\")\n",
    "t = loadPageTree(p)\n",
    " \n",
    "\n",
    " "
   ]
  },
  {
   "cell_type": "code",
   "execution_count": 43,
   "metadata": {},
   "outputs": [
    {
     "name": "stdout",
     "output_type": "stream",
     "text": [
      "349.000 €\n",
      "  91 m²   5 hab.   4ª planta con ascensor  \n",
      " \"Espacioso piso a reformar situado en un edificio de 1930 en el acogedor barrio de la Nova Esquerra de l’Eixample. Se accede al edificio por una amplia entrada con ascensor. La escalera tiene ventana al exterior en cada rellano, por lo cual es también luminosa y aireada. Una vez en la vivienda nos \n"
     ]
    }
   ],
   "source": [
    "price = t.cssselect(\".info-data-price\")\n",
    "print(price[0].text_content())\n",
    "features = t.cssselect(\".info-features\")[0]\n",
    "print(features.text_content())\n",
    "descr = t.cssselect(\".adCommentsLanguage\")[0]\n",
    "print(descr.text_content()[:300])"
   ]
  },
  {
   "cell_type": "code",
   "execution_count": null,
   "metadata": {},
   "outputs": [],
   "source": []
  }
 ],
 "metadata": {
  "kernelspec": {
   "display_name": "Python 3",
   "language": "python",
   "name": "python3"
  },
  "language_info": {
   "codemirror_mode": {
    "name": "ipython",
    "version": 3
   },
   "file_extension": ".py",
   "mimetype": "text/x-python",
   "name": "python",
   "nbconvert_exporter": "python",
   "pygments_lexer": "ipython3",
   "version": "3.7.1"
  }
 },
 "nbformat": 4,
 "nbformat_minor": 1
}
