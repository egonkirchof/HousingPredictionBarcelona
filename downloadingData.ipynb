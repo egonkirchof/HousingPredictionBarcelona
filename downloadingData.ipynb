{
 "cells": [
  {
   "cell_type": "markdown",
   "metadata": {},
   "source": [
    "Housing prices prediction - Barcelona\n",
    "==================\n",
    "\n",
    "### Downloading data from website\n",
    "\n",
    "Download data from idealista and save it as a mongodb database."
   ]
  },
  {
   "cell_type": "code",
   "execution_count": 157,
   "metadata": {},
   "outputs": [],
   "source": [
    "from selenium import webdriver\n",
    "\n",
    "def newBrowser():\n",
    "    return webdriver.Firefox()\n",
    "         \n"
   ]
  },
  {
   "cell_type": "code",
   "execution_count": 135,
   "metadata": {},
   "outputs": [],
   "source": [
    "from lxml import html\n",
    "from lxml.cssselect import CSSSelector\n",
    "import time\n",
    "\n",
    "#Auxiliary functions to extract information from the browser\n",
    "\n",
    "def loadPage(page):\n",
    "    browser.get(page)\n",
    "    return browser.page_source\n",
    "\n",
    "def loadPageTree(page_source):\n",
    "    tree = html.document_fromstring(page_source)\n",
    "    return tree\n",
    "\n",
    "def firstHouse(tree):\n",
    "    element = tree.cssselect('.item-link')\n",
    "    if element:\n",
    "        return element[0].get(\"href\")\n",
    "    return None\n",
    "\n",
    "def getListOfHouses(tree):\n",
    "    houses = [elem.get(\"href\") for elem in tree.cssselect('.item-link')]\n",
    "    return houses\n",
    "    \n",
    "def isLastPage(tree):\n",
    "    return tree.cssselect(\".icon-arrow-right-after\") == []\n",
    "    \n"
   ]
  },
  {
   "cell_type": "code",
   "execution_count": 99,
   "metadata": {},
   "outputs": [],
   "source": [
    "# Get the details of the house from the page\n",
    "\n",
    "def getHouseData(tree):\n",
    "    data = {}\n",
    "    price = tree.cssselect(\".info-data-price\")\n",
    "    data[\"price\"] = price[0].text_content() if price else \"\"\n",
    "    features = tree.cssselect(\".info-features\")\n",
    "    data[\"features\"] = [ it.text_content() for idx,it in enumerate(features[0].cssselect(\"span\")) if idx%2==0]  if features else []\n",
    "    descr = tree.cssselect(\".adCommentsLanguage\")\n",
    "    data[\"description\"] = descr[0].text_content() if descr else \"\"\n",
    "    details = t.cssselect(\".details-property_features\")\n",
    "    if details:\n",
    "        details_house = [ it.text_content() for it in details[0].cssselect(\"li\")] \n",
    "        if len(details)>1:\n",
    "            bdata = [d.cssselect(\"li\") for d in details[1:]] \n",
    "            details_building = [ it.text_content() for d in bdata for it in d] \n",
    "        else:\n",
    "            details_building = []\n",
    "        energy = details[0].cssselect(\"span\") \n",
    "        energy_class = energy[0].get(\"title\") if energy else \"\"\n",
    "    else:\n",
    "        details_house = []\n",
    "        details_building = []\n",
    "        energy_class = \"\"\n",
    "    data[\"details_house\"] = details_house\n",
    "    data[\"details_building\"] = details_building\n",
    "    data[\"energy_class\"] = energy_class\n",
    "    address = t.cssselect(\"#headerMap\")\n",
    "    address_details = [it.text_content() for it in address[0].cssselect(\"li\")][0:3] if address else []\n",
    "    data[\"address\"] = address_details\n",
    "    \n",
    "    return data\n"
   ]
  },
  {
   "cell_type": "code",
   "execution_count": 236,
   "metadata": {},
   "outputs": [
    {
     "name": "stdout",
     "output_type": "stream",
     "text": [
      "connected\n"
     ]
    }
   ],
   "source": [
    "import pymongo\n",
    "\n",
    "# Connection to Mongo DB\n",
    "try:\n",
    "    conn=pymongo.MongoClient()\n",
    "    print(\"connected\")\n",
    "except pymongo.errors.ConnectionFailure as e:\n",
    "    print (\"Could not connect to MongoDB: %s\" % e )\n",
    "\n",
    "db = conn[\"idealista\"]\n",
    "collection = db[\"houses2\"]\n",
    "urls = db[\"urls\"]\n"
   ]
  },
  {
   "cell_type": "code",
   "execution_count": 237,
   "metadata": {},
   "outputs": [],
   "source": [
    "def saveToMongo(houseUrl,data):\n",
    "    house_id = houseUrl.split(\"/\")[2]\n",
    "    data[\"id\"] = house_id\n",
    "    collection.replace_one( { \"id\" : house_id },   data, upsert = True )\n",
    "    \n",
    "def saveUrl(source,url):\n",
    "    urls.insert_one( {\"source\":source , \"url\":url})\n",
    "    "
   ]
  },
  {
   "cell_type": "code",
   "execution_count": 256,
   "metadata": {},
   "outputs": [],
   "source": [
    "browser = newBrowser()"
   ]
  },
  {
   "cell_type": "code",
   "execution_count": 224,
   "metadata": {},
   "outputs": [],
   "source": [
    "import random\n",
    "\n",
    "# Method 1. Go to the first house page. From the go to the next indicated at \"Siguiente\"\n",
    "\n",
    "def getNextHouseFromSource(page): #needed sometimes: for some reason getNextHouse fails\n",
    "    text_next = 'class=\"btn nav next icon-arrow-right-after\" href=\"'\n",
    "    pstart = page.find(text_next)\n",
    "    if pstart==-1:\n",
    "        return None\n",
    "    pstart += len(text_next)\n",
    "    pend = page.find('\"', pstart)+1\n",
    "    return page[pstart:pend]\n",
    "\n",
    "def getNextHouse(page,tree):\n",
    "    next_link = tree.cssselect(\".icon-arrow-right-after\")\n",
    "    next_house = next_link[0].get(\"href\") if next_link else None\n",
    "    if next_house is None: \n",
    "        next_house = getNextHouseFromSource(page)\n",
    "    return next_house\n",
    "    \n",
    "#Not a good solution. Must keep browser open all the time.\n",
    "#If browser closes you have to restart because you don't have a list of houses\n",
    "def getHouses(from_start=True):   \n",
    "    if from_start:\n",
    "        p = loadPage(\"https://www.idealista.com/venta-viviendas/barcelona-barcelona/\")\n",
    "        t = loadPageTree(p)\n",
    "        time.sleep(3)\n",
    "        next_house = firstHouse(t)\n",
    "    else:\n",
    "        p = browser.page_source\n",
    "        t = loadPageTree(p)\n",
    "        next_house = getNextHouse(p,t)\n",
    "        \n",
    "    while next_house:\n",
    "        print(next_house,end=\" \")\n",
    "        p = loadPage(\"https://www.idealista.com\"+next_house)\n",
    "        t = loadPageTree(p)\n",
    "        data = getHouseData(t)\n",
    "        saveToMongo(next_house,data)\n",
    "        time.sleep(random.randint(43,59)+10*random.random())\n",
    "        next_house = getNextHouse(p,t)\n",
    "    print(\"done\")\n",
    "    \n",
    "    \n",
    "\n",
    " \n",
    "    "
   ]
  },
  {
   "cell_type": "code",
   "execution_count": null,
   "metadata": {},
   "outputs": [],
   "source": [
    "listHouses = []"
   ]
  },
  {
   "cell_type": "code",
   "execution_count": 260,
   "metadata": {},
   "outputs": [],
   "source": [
    "#Method 2. First retrieve the list of all houses\n",
    "#Then you can get houses' data one by one by number\n",
    "#This way you can stop and restart the browser as needed\n",
    "\n",
    "def pageFormat(start,end,page):\n",
    "    res = \"https://www.idealista.com/venta-viviendas/barcelona-barcelona/\"\n",
    "    res += \"con-precio-hasta_{},precio-desde_{}/{}\".format(\n",
    "        end,start, \"pagina-{}.htm\".format(page) if page>1 else \"\")\n",
    "    return res\n",
    "\n",
    "def saveUrls(tree):\n",
    "    global listHouses\n",
    "    l = getListOfHouses(tree)\n",
    "    listHouses.extend(l)\n",
    "    for url in l: \n",
    "        saveUrl(\"idealista\",url)\n",
    "    return len(l)\n",
    "        \n",
    "def getAllHouseUrls(startPrice=50000,incPrice=30000,finalPrice=3000000,startPage=1,loopLimit=100):\n",
    "    pageNumber = startPage\n",
    "    price = startPrice\n",
    "    incr = incPrice\n",
    "    zeros = 0 # sanity check. If something goes wrong, there will be many 0 urls in sequence\n",
    "    \n",
    "    while (price<finalPrice) and (zeros<3) and (loopLimit>0):\n",
    "        pageUrl = pageFormat(price,price+incr-1,pageNumber)\n",
    "        print(pageUrl,end=\"\")\n",
    "        p = loadPage(pageUrl)\n",
    "        t = loadPageTree(p)\n",
    "        l = saveUrls(t)\n",
    "        print(\" (\",l,\")\",loopLimit)\n",
    "        zeros = 0 if l>0 else zeros+1\n",
    "        time.sleep(random.randint(41,59)+10*random.random())\n",
    "        if isLastPage(t):\n",
    "            price += incr\n",
    "            pageNumber = 1\n",
    "        else:\n",
    "            pageNumber += 1\n",
    "        loopLimit -= 1\n",
    "    print(\"done\")        \n",
    "       "
   ]
  },
  {
   "cell_type": "code",
   "execution_count": 255,
   "metadata": {},
   "outputs": [
    {
     "data": {
      "text/plain": [
       "11536"
      ]
     },
     "execution_count": 255,
     "metadata": {},
     "output_type": "execute_result"
    }
   ],
   "source": [
    "len(listHouses)\n",
    "len(set(listHouses))"
   ]
  },
  {
   "cell_type": "code",
   "execution_count": 261,
   "metadata": {},
   "outputs": [
    {
     "name": "stdout",
     "output_type": "stream",
     "text": [
      "https://www.idealista.com/venta-viviendas/barcelona-barcelona/con-precio-hasta_869999,precio-desde_845000/pagina-3.htm ( 30 ) 100\n",
      "https://www.idealista.com/venta-viviendas/barcelona-barcelona/con-precio-hasta_869999,precio-desde_845000/pagina-4.htm ( 30 ) 99\n",
      "https://www.idealista.com/venta-viviendas/barcelona-barcelona/con-precio-hasta_869999,precio-desde_845000/pagina-5.htm ( 30 ) 98\n",
      "https://www.idealista.com/venta-viviendas/barcelona-barcelona/con-precio-hasta_869999,precio-desde_845000/pagina-6.htm ( 11 ) 97\n",
      "https://www.idealista.com/venta-viviendas/barcelona-barcelona/con-precio-hasta_894999,precio-desde_870000/ ( 30 ) 96\n",
      "https://www.idealista.com/venta-viviendas/barcelona-barcelona/con-precio-hasta_894999,precio-desde_870000/pagina-2.htm ( 30 ) 95\n",
      "https://www.idealista.com/venta-viviendas/barcelona-barcelona/con-precio-hasta_894999,precio-desde_870000/pagina-3.htm ( 30 ) 94\n",
      "https://www.idealista.com/venta-viviendas/barcelona-barcelona/con-precio-hasta_894999,precio-desde_870000/pagina-4.htm ( 30 ) 93\n",
      "https://www.idealista.com/venta-viviendas/barcelona-barcelona/con-precio-hasta_894999,precio-desde_870000/pagina-5.htm ( 18 ) 92\n",
      "https://www.idealista.com/venta-viviendas/barcelona-barcelona/con-precio-hasta_919999,precio-desde_895000/ ( 30 ) 91\n",
      "https://www.idealista.com/venta-viviendas/barcelona-barcelona/con-precio-hasta_919999,precio-desde_895000/pagina-2.htm ( 30 ) 90\n",
      "https://www.idealista.com/venta-viviendas/barcelona-barcelona/con-precio-hasta_919999,precio-desde_895000/pagina-3.htm ( 30 ) 89\n",
      "https://www.idealista.com/venta-viviendas/barcelona-barcelona/con-precio-hasta_919999,precio-desde_895000/pagina-4.htm ( 30 ) 88\n",
      "https://www.idealista.com/venta-viviendas/barcelona-barcelona/con-precio-hasta_919999,precio-desde_895000/pagina-5.htm ( 10 ) 87\n",
      "https://www.idealista.com/venta-viviendas/barcelona-barcelona/con-precio-hasta_944999,precio-desde_920000/ ( 30 ) 86\n",
      "https://www.idealista.com/venta-viviendas/barcelona-barcelona/con-precio-hasta_944999,precio-desde_920000/pagina-2.htm ( 30 ) 85\n",
      "https://www.idealista.com/venta-viviendas/barcelona-barcelona/con-precio-hasta_944999,precio-desde_920000/pagina-3.htm ( 23 ) 84\n",
      "https://www.idealista.com/venta-viviendas/barcelona-barcelona/con-precio-hasta_969999,precio-desde_945000/ ( 30 ) 83\n",
      "https://www.idealista.com/venta-viviendas/barcelona-barcelona/con-precio-hasta_969999,precio-desde_945000/pagina-2.htm ( 30 ) 82\n",
      "https://www.idealista.com/venta-viviendas/barcelona-barcelona/con-precio-hasta_969999,precio-desde_945000/pagina-3.htm ( 30 ) 81\n",
      "https://www.idealista.com/venta-viviendas/barcelona-barcelona/con-precio-hasta_969999,precio-desde_945000/pagina-4.htm ( 30 ) 80\n",
      "https://www.idealista.com/venta-viviendas/barcelona-barcelona/con-precio-hasta_969999,precio-desde_945000/pagina-5.htm ( 9 ) 79\n",
      "https://www.idealista.com/venta-viviendas/barcelona-barcelona/con-precio-hasta_994999,precio-desde_970000/ ( 30 ) 78\n",
      "https://www.idealista.com/venta-viviendas/barcelona-barcelona/con-precio-hasta_994999,precio-desde_970000/pagina-2.htm ( 30 ) 77\n",
      "https://www.idealista.com/venta-viviendas/barcelona-barcelona/con-precio-hasta_994999,precio-desde_970000/pagina-3.htm ( 30 ) 76\n",
      "https://www.idealista.com/venta-viviendas/barcelona-barcelona/con-precio-hasta_994999,precio-desde_970000/pagina-4.htm ( 30 ) 75\n",
      "https://www.idealista.com/venta-viviendas/barcelona-barcelona/con-precio-hasta_994999,precio-desde_970000/pagina-5.htm ( 30 ) 74\n",
      "https://www.idealista.com/venta-viviendas/barcelona-barcelona/con-precio-hasta_1019999,precio-desde_995000/ ( 30 ) 73\n",
      "https://www.idealista.com/venta-viviendas/barcelona-barcelona/con-precio-hasta_1019999,precio-desde_995000/pagina-2.htm ( 30 ) 72\n",
      "https://www.idealista.com/venta-viviendas/barcelona-barcelona/con-precio-hasta_1019999,precio-desde_995000/pagina-3.htm ( 12 ) 71\n",
      "https://www.idealista.com/venta-viviendas/barcelona-barcelona/con-precio-hasta_1044999,precio-desde_1020000/ ( 17 ) 70\n",
      "https://www.idealista.com/venta-viviendas/barcelona-barcelona/con-precio-hasta_1069999,precio-desde_1045000/ ( 30 ) 69\n",
      "https://www.idealista.com/venta-viviendas/barcelona-barcelona/con-precio-hasta_1069999,precio-desde_1045000/pagina-2.htm ( 10 ) 68\n",
      "https://www.idealista.com/venta-viviendas/barcelona-barcelona/con-precio-hasta_1094999,precio-desde_1070000/ ( 30 ) 67\n",
      "https://www.idealista.com/venta-viviendas/barcelona-barcelona/con-precio-hasta_1094999,precio-desde_1070000/pagina-2.htm ( 12 ) 66\n",
      "https://www.idealista.com/venta-viviendas/barcelona-barcelona/con-precio-hasta_1119999,precio-desde_1095000/ ( 30 ) 65\n",
      "https://www.idealista.com/venta-viviendas/barcelona-barcelona/con-precio-hasta_1119999,precio-desde_1095000/pagina-2.htm ( 30 ) 64\n",
      "https://www.idealista.com/venta-viviendas/barcelona-barcelona/con-precio-hasta_1119999,precio-desde_1095000/pagina-3.htm ( 30 ) 63\n",
      "https://www.idealista.com/venta-viviendas/barcelona-barcelona/con-precio-hasta_1119999,precio-desde_1095000/pagina-4.htm ( 19 ) 62\n",
      "https://www.idealista.com/venta-viviendas/barcelona-barcelona/con-precio-hasta_1144999,precio-desde_1120000/ ( 30 ) 61\n",
      "https://www.idealista.com/venta-viviendas/barcelona-barcelona/con-precio-hasta_1144999,precio-desde_1120000/pagina-2.htm ( 1 ) 60\n",
      "https://www.idealista.com/venta-viviendas/barcelona-barcelona/con-precio-hasta_1169999,precio-desde_1145000/ ( 30 ) 59\n",
      "https://www.idealista.com/venta-viviendas/barcelona-barcelona/con-precio-hasta_1169999,precio-desde_1145000/pagina-2.htm ( 30 ) 58\n",
      "https://www.idealista.com/venta-viviendas/barcelona-barcelona/con-precio-hasta_1169999,precio-desde_1145000/pagina-3.htm ( 30 ) 57\n",
      "https://www.idealista.com/venta-viviendas/barcelona-barcelona/con-precio-hasta_1169999,precio-desde_1145000/pagina-4.htm ( 29 ) 56\n",
      "https://www.idealista.com/venta-viviendas/barcelona-barcelona/con-precio-hasta_1194999,precio-desde_1170000/ ( 30 ) 55\n",
      "https://www.idealista.com/venta-viviendas/barcelona-barcelona/con-precio-hasta_1194999,precio-desde_1170000/pagina-2.htm ( 23 ) 54\n",
      "https://www.idealista.com/venta-viviendas/barcelona-barcelona/con-precio-hasta_1219999,precio-desde_1195000/ ( 30 ) 53\n",
      "https://www.idealista.com/venta-viviendas/barcelona-barcelona/con-precio-hasta_1219999,precio-desde_1195000/pagina-2.htm ( 30 ) 52\n",
      "https://www.idealista.com/venta-viviendas/barcelona-barcelona/con-precio-hasta_1219999,precio-desde_1195000/pagina-3.htm ( 30 ) 51\n",
      "https://www.idealista.com/venta-viviendas/barcelona-barcelona/con-precio-hasta_1219999,precio-desde_1195000/pagina-4.htm ( 30 ) 50\n",
      "https://www.idealista.com/venta-viviendas/barcelona-barcelona/con-precio-hasta_1219999,precio-desde_1195000/pagina-5.htm ( 3 ) 49\n",
      "https://www.idealista.com/venta-viviendas/barcelona-barcelona/con-precio-hasta_1244999,precio-desde_1220000/ ( 30 ) 48\n",
      "https://www.idealista.com/venta-viviendas/barcelona-barcelona/con-precio-hasta_1244999,precio-desde_1220000/pagina-2.htm ( 1 ) 47\n",
      "https://www.idealista.com/venta-viviendas/barcelona-barcelona/con-precio-hasta_1269999,precio-desde_1245000/ ( 30 ) 46\n",
      "https://www.idealista.com/venta-viviendas/barcelona-barcelona/con-precio-hasta_1269999,precio-desde_1245000/pagina-2.htm ( 30 ) 45\n",
      "https://www.idealista.com/venta-viviendas/barcelona-barcelona/con-precio-hasta_1269999,precio-desde_1245000/pagina-3.htm ( 4 ) 44\n",
      "https://www.idealista.com/venta-viviendas/barcelona-barcelona/con-precio-hasta_1294999,precio-desde_1270000/ ( 30 ) 43\n",
      "https://www.idealista.com/venta-viviendas/barcelona-barcelona/con-precio-hasta_1294999,precio-desde_1270000/pagina-2.htm ( 30 ) 42\n",
      "https://www.idealista.com/venta-viviendas/barcelona-barcelona/con-precio-hasta_1294999,precio-desde_1270000/pagina-3.htm ( 26 ) 41\n",
      "https://www.idealista.com/venta-viviendas/barcelona-barcelona/con-precio-hasta_1319999,precio-desde_1295000/ ( 30 ) 40\n",
      "https://www.idealista.com/venta-viviendas/barcelona-barcelona/con-precio-hasta_1319999,precio-desde_1295000/pagina-2.htm ( 30 ) 39\n",
      "https://www.idealista.com/venta-viviendas/barcelona-barcelona/con-precio-hasta_1319999,precio-desde_1295000/pagina-3.htm ( 11 ) 38\n",
      "https://www.idealista.com/venta-viviendas/barcelona-barcelona/con-precio-hasta_1344999,precio-desde_1320000/ ( 26 ) 37\n"
     ]
    },
    {
     "name": "stdout",
     "output_type": "stream",
     "text": [
      "https://www.idealista.com/venta-viviendas/barcelona-barcelona/con-precio-hasta_1369999,precio-desde_1345000/ ( 30 ) 36\n",
      "https://www.idealista.com/venta-viviendas/barcelona-barcelona/con-precio-hasta_1369999,precio-desde_1345000/pagina-2.htm ( 30 ) 35\n",
      "https://www.idealista.com/venta-viviendas/barcelona-barcelona/con-precio-hasta_1369999,precio-desde_1345000/pagina-3.htm ( 21 ) 34\n",
      "https://www.idealista.com/venta-viviendas/barcelona-barcelona/con-precio-hasta_1394999,precio-desde_1370000/ ( 30 ) 33\n",
      "https://www.idealista.com/venta-viviendas/barcelona-barcelona/con-precio-hasta_1394999,precio-desde_1370000/pagina-2.htm ( 30 ) 32\n",
      "https://www.idealista.com/venta-viviendas/barcelona-barcelona/con-precio-hasta_1394999,precio-desde_1370000/pagina-3.htm ( 14 ) 31\n",
      "https://www.idealista.com/venta-viviendas/barcelona-barcelona/con-precio-hasta_1419999,precio-desde_1395000/ ( 30 ) 30\n",
      "https://www.idealista.com/venta-viviendas/barcelona-barcelona/con-precio-hasta_1419999,precio-desde_1395000/pagina-2.htm ( 23 ) 29\n",
      "https://www.idealista.com/venta-viviendas/barcelona-barcelona/con-precio-hasta_1444999,precio-desde_1420000/ ( 14 ) 28\n",
      "https://www.idealista.com/venta-viviendas/barcelona-barcelona/con-precio-hasta_1469999,precio-desde_1445000/ ( 24 ) 27\n",
      "https://www.idealista.com/venta-viviendas/barcelona-barcelona/con-precio-hasta_1494999,precio-desde_1470000/ ( 30 ) 26\n",
      "https://www.idealista.com/venta-viviendas/barcelona-barcelona/con-precio-hasta_1494999,precio-desde_1470000/pagina-2.htm ( 26 ) 25\n",
      "https://www.idealista.com/venta-viviendas/barcelona-barcelona/con-precio-hasta_1519999,precio-desde_1495000/ ( 30 ) 24\n",
      "https://www.idealista.com/venta-viviendas/barcelona-barcelona/con-precio-hasta_1519999,precio-desde_1495000/pagina-2.htm ( 30 ) 23\n",
      "https://www.idealista.com/venta-viviendas/barcelona-barcelona/con-precio-hasta_1519999,precio-desde_1495000/pagina-3.htm ( 13 ) 22\n",
      "https://www.idealista.com/venta-viviendas/barcelona-barcelona/con-precio-hasta_1544999,precio-desde_1520000/ ( 15 ) 21\n",
      "https://www.idealista.com/venta-viviendas/barcelona-barcelona/con-precio-hasta_1569999,precio-desde_1545000/ ( 20 ) 20\n",
      "https://www.idealista.com/venta-viviendas/barcelona-barcelona/con-precio-hasta_1594999,precio-desde_1570000/ ( 0 ) 19\n",
      "https://www.idealista.com/venta-viviendas/barcelona-barcelona/con-precio-hasta_1619999,precio-desde_1595000/ ( 0 ) 18\n",
      "https://www.idealista.com/venta-viviendas/barcelona-barcelona/con-precio-hasta_1644999,precio-desde_1620000/ ( 0 ) 17\n",
      "done\n"
     ]
    }
   ],
   "source": [
    "getAllHouseUrls(845000,25000,3000000,3,100)"
   ]
  },
  {
   "cell_type": "code",
   "execution_count": 251,
   "metadata": {},
   "outputs": [
    {
     "name": "stderr",
     "output_type": "stream",
     "text": [
      "/home/egon/anaconda3/lib/python3.7/site-packages/ipykernel_launcher.py:2: DeprecationWarning: count is deprecated. Use estimated_document_count or count_documents instead. Please note that $where must be replaced by $expr, $near must be replaced by $geoWithin with $center, and $nearSphere must be replaced by $geoWithin with $centerSphere\n",
      "  \n"
     ]
    },
    {
     "data": {
      "text/plain": [
       "14643"
      ]
     },
     "execution_count": 251,
     "metadata": {},
     "output_type": "execute_result"
    }
   ],
   "source": [
    "\n",
    "urls.count()"
   ]
  },
  {
   "cell_type": "code",
   "execution_count": 182,
   "metadata": {},
   "outputs": [
    {
     "name": "stdout",
     "output_type": "stream",
     "text": [
      "/inmueble/87916907/\n"
     ]
    }
   ],
   "source": [
    "print(t.cssselect(\".icon-arrow-right-after\")[0].get(\"href\"))"
   ]
  },
  {
   "cell_type": "code",
   "execution_count": 178,
   "metadata": {},
   "outputs": [
    {
     "data": {
      "text/plain": [
       "'/inmueble/87916907/\"'"
      ]
     },
     "execution_count": 178,
     "metadata": {},
     "output_type": "execute_result"
    }
   ],
   "source": [
    "p = browser.page_source\n"
   ]
  },
  {
   "cell_type": "code",
   "execution_count": null,
   "metadata": {},
   "outputs": [],
   "source": []
  }
 ],
 "metadata": {
  "kernelspec": {
   "display_name": "Python 3",
   "language": "python",
   "name": "python3"
  },
  "language_info": {
   "codemirror_mode": {
    "name": "ipython",
    "version": 3
   },
   "file_extension": ".py",
   "mimetype": "text/x-python",
   "name": "python",
   "nbconvert_exporter": "python",
   "pygments_lexer": "ipython3",
   "version": "3.7.1"
  }
 },
 "nbformat": 4,
 "nbformat_minor": 1
}
