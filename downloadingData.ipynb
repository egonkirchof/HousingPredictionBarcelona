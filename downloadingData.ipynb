{
 "cells": [
  {
   "cell_type": "markdown",
   "metadata": {},
   "source": [
    "Housing prices prediction - Barcelona\n",
    "==================\n",
    "\n",
    "### Downloading data from website\n",
    "\n",
    "Download data from idealista and save it as a mongodb database."
   ]
  },
  {
   "cell_type": "code",
   "execution_count": 12,
   "metadata": {},
   "outputs": [
    {
     "name": "stdout",
     "output_type": "stream",
     "text": [
      "https://www.idealista.com/venta-viviendas/barcelona-barcelona/con-precio-hasta_80000,precio-desde_60000/?ordenado-por=fecha-publicacion-asc\n"
     ]
    }
   ],
   "source": [
    "from selenium import webdriver\n",
    "browser = webdriver.Firefox()\n",
    "\n",
    "def pageFormat(start,end,page):\n",
    "    res = \"https://www.idealista.com/venta-viviendas/barcelona-barcelona/\"\n",
    "    res += \"con-precio-hasta_{},precio-desde_{}/{}\".format(\n",
    "        end,start, \"pagina-{}.html\".format(page) if page>1 else \"\")\n",
    "    return res\n",
    "\n",
    "\n"
   ]
  },
  {
   "cell_type": "code",
   "execution_count": 30,
   "metadata": {},
   "outputs": [],
   "source": [
    "from lxml import html\n",
    "from lxml.cssselect import CSSSelector\n",
    "import time\n",
    "\n",
    "def loadPage(page):\n",
    "    browser.get(page)\n",
    "    return browser.page_source\n",
    "\n",
    "def loadPageTree(page_source):\n",
    "    tree = html.document_fromstring(page_source)\n",
    "    return tree\n",
    "\n",
    "def getListOfHouses(tree):\n",
    "    houses = [elem.get(\"href\") for elem in tree.cssselect('.item-link')]\n",
    "    return houses\n",
    "    \n",
    "def isLastPage(tree):\n",
    "    return tree.cssselect(\".icon-arrow-right-after\") == []\n",
    "    \n",
    "price_to = 80000\n",
    "price_from = 60000\n",
    "page_number = 1\n",
    "page = pageFormat(price_from,price_to,page_number)\n"
   ]
  },
  {
   "cell_type": "code",
   "execution_count": 86,
   "metadata": {},
   "outputs": [
    {
     "data": {
      "text/plain": [
       "<Element html at 0x7f8bae2e4048>"
      ]
     },
     "execution_count": 86,
     "metadata": {},
     "output_type": "execute_result"
    }
   ],
   "source": [
    "id = \"87428761\" \n",
    "houseurl = \"/inmueble/\"+id\n",
    "p = loadPage(\"https://www.idealista.com/\"+houseurl)\n",
    "t = loadPageTree(p)\n",
    "t \n",
    "\n",
    " "
   ]
  },
  {
   "cell_type": "code",
   "execution_count": 94,
   "metadata": {},
   "outputs": [
    {
     "name": "stdout",
     "output_type": "stream",
     "text": [
      "3\n"
     ]
    },
    {
     "data": {
      "text/plain": [
       "{'price': '1.550.000 €',\n",
       " 'features': [' 218 m² ',\n",
       "  ' 5 hab. ',\n",
       "  ' 1ª planta con ascensor ',\n",
       "  ' Garaje incluido '],\n",
       " 'description': ' \"En el exclusivo barrio de Turó Parc, en una de las más prestigiosas calles, encontramos este maravilloso piso de 185 m2 con 110 m2 de terraza privativa y con salida a jardín comunitario. La finca fue construida por el prestigioso arquitecto José Antonio Coderch en 1960 y conserva en el interior la distribución, así como los elementos originales del arquitecto. Accediendo a la vivienda a través del ascensor principal, entramos directamente en la vivienda. El vestíbulo de entrada conecta las tres zonas, la zona de día, la zona de noche y la zona de servicio con un segundo vestíbulo con acceso al ascensor de servicio y escalera. En la zona de día encontramos el salón comedor con salida a una impresionante terraza de más de 100 m2 que conecta con la terraza comunitaria, el jardín comunitario y la piscina comunitaria, con vestuarios y baño completo. La cocina es amplia y conecta con la zona de aguas. Completan esta zona un dormitorio individual de servicio con baño completo. En la zona de noche encontramos la suite principal, con baño completo y salida a la terraza, dos dormitorios individuales, un dormitorio doble y un baño completo. La vivienda tiene dos plazas de aparcamiento, una grande y una mediana. Finca con servicio de portería y vigilancia 24 horas.La zona del Turó Parc es una de las más demandas de Barcelona. Se trata de una zona muy segura, con todos los servicios, llena de comercios y actividades de ocio.\" ',\n",
       " 'details_house': ['218 m² construidos',\n",
       "  '5 habitaciones',\n",
       "  '3 baños',\n",
       "  'Terraza',\n",
       "  'Plaza de garaje incluida en el precio',\n",
       "  'Construido en 1960'],\n",
       " 'details_building': [' Planta 1ª ',\n",
       "  ' Con ascensor ',\n",
       "  ' Piscina ',\n",
       "  ' Zonas verdes '],\n",
       " 'energy_class': 'e',\n",
       " 'address': [' ',\n",
       "  ' Barrio Sant Gervasi - Galvany ',\n",
       "  ' Distrito Sarrià-Sant Gervasi ']}"
      ]
     },
     "execution_count": 94,
     "metadata": {},
     "output_type": "execute_result"
    }
   ],
   "source": [
    "def getHouseData(tree):\n",
    "    data = {}\n",
    "    price = tree.cssselect(\".info-data-price\")\n",
    "    data[\"price\"] = price[0].text_content() if price else \"\"\n",
    "    features = tree.cssselect(\".info-features\")\n",
    "    data[\"features\"] = [ it.text_content() for idx,it in enumerate(features[0].cssselect(\"span\")) if idx%2==0]  if features else []\n",
    "    descr = tree.cssselect(\".adCommentsLanguage\")\n",
    "    data[\"description\"] = descr[0].text_content() if descr else \"\"\n",
    "    details = t.cssselect(\".details-property_features\")\n",
    "    print(len(details))\n",
    "    if details:\n",
    "        details_house = [ it.text_content() for it in details[0].cssselect(\"li\")] \n",
    "        if len(details)>1:\n",
    "            bdata = [d.cssselect(\"li\") for d in details[1:]] \n",
    "            details_building = [ it.text_content() for d in bdata for it in d] \n",
    "        else:\n",
    "            details_building = []\n",
    "        energy = details[0].cssselect(\"span\") \n",
    "        energy_class = energy[0].get(\"title\") if energy else \"\"\n",
    "    else:\n",
    "        details_house = []\n",
    "        details_building = []\n",
    "        energy_class = \"\"\n",
    "    data[\"details_house\"] = details_house\n",
    "    data[\"details_building\"] = details_building\n",
    "    data[\"energy_class\"] = energy_class\n",
    "    address = t.cssselect(\"#headerMap\")\n",
    "    address_details = [it.text_content() for it in address[0].cssselect(\"li\")][0:3] if address else []\n",
    "    data[\"address\"] = address_details\n",
    "    \n",
    "    return data\n",
    "getHouseData(t)"
   ]
  },
  {
   "cell_type": "code",
   "execution_count": null,
   "metadata": {},
   "outputs": [],
   "source": []
  }
 ],
 "metadata": {
  "kernelspec": {
   "display_name": "Python 3",
   "language": "python",
   "name": "python3"
  },
  "language_info": {
   "codemirror_mode": {
    "name": "ipython",
    "version": 3
   },
   "file_extension": ".py",
   "mimetype": "text/x-python",
   "name": "python",
   "nbconvert_exporter": "python",
   "pygments_lexer": "ipython3",
   "version": "3.7.1"
  }
 },
 "nbformat": 4,
 "nbformat_minor": 1
}
