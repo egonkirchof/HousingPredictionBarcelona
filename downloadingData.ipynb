{
 "cells": [
  {
   "cell_type": "markdown",
   "metadata": {},
   "source": [
    "Housing prices prediction - Barcelona\n",
    "==================\n",
    "\n",
    "### Downloading data from website\n",
    "\n",
    "Download data from idealista and save it as a mongodb database."
   ]
  },
  {
   "cell_type": "code",
   "execution_count": 1,
   "metadata": {},
   "outputs": [],
   "source": [
    "from selenium import webdriver\n",
    "\n",
    "def newBrowser():\n",
    "    return webdriver.Firefox()\n",
    "         \n",
    "browser=None"
   ]
  },
  {
   "cell_type": "code",
   "execution_count": 2,
   "metadata": {},
   "outputs": [],
   "source": [
    "from lxml import html\n",
    "from lxml.cssselect import CSSSelector\n",
    "import time\n",
    "import random\n",
    "\n",
    "#Auxiliary functions to extract information from the browser\n",
    "\n",
    "def loadPage(page,browser=browser):\n",
    "    browser.get(page)\n",
    "    return browser.page_source\n",
    "\n",
    "def loadPageTree(page_source):\n",
    "    tree = html.document_fromstring(page_source)\n",
    "    return tree\n",
    "\n",
    "def firstHouse(tree):\n",
    "    element = tree.cssselect('.item-link')\n",
    "    return element[0].get(\"href\") if element else None\n",
    "\n",
    "def getListOfHouses(tree):\n",
    "    houses = [elem.get(\"href\") for elem in tree.cssselect('.item-link')]\n",
    "    return houses\n",
    "    \n",
    "def isLastPage(tree):\n",
    "    return tree.cssselect(\".icon-arrow-right-after\") == []\n",
    "    \n"
   ]
  },
  {
   "cell_type": "code",
   "execution_count": 3,
   "metadata": {},
   "outputs": [],
   "source": [
    "# Get the details of the house from the page\n",
    "\n",
    "def getHouseData(tree):\n",
    "    data = {}\n",
    "    price = tree.cssselect(\".info-data-price\")\n",
    "    data[\"price\"] = price[0].text_content() if price else \"\"\n",
    "    features = tree.cssselect(\".info-features\")\n",
    "    data[\"features\"] = [ it.text_content() for idx,it in enumerate(features[0].cssselect(\"span\")) if idx%2==0]  if features else []\n",
    "    descr = tree.cssselect(\".adCommentsLanguage\")\n",
    "    data[\"description\"] = descr[0].text_content() if descr else \"\"\n",
    "    details = tree.cssselect(\".details-property_features\")\n",
    "    if details:\n",
    "        details_house = [ it.text_content() for it in details[0].cssselect(\"li\")] \n",
    "        if len(details)>1:\n",
    "            bdata = [d.cssselect(\"li\") for d in details[1:]] \n",
    "            details_building = [ it.text_content() for d in bdata for it in d] \n",
    "        else:\n",
    "            details_building = []\n",
    "        energy = details[0].cssselect(\"span\") \n",
    "        energy_class = energy[0].get(\"title\") if energy else \"\"\n",
    "    else:\n",
    "        details_house = []\n",
    "        details_building = []\n",
    "        energy_class = \"\"\n",
    "    data[\"details_house\"] = details_house\n",
    "    data[\"details_building\"] = details_building\n",
    "    data[\"energy_class\"] = energy_class\n",
    "    address = tree.cssselect(\"#headerMap\")\n",
    "    address_details = [it.text_content() for it in address[0].cssselect(\"li\")][0:3] if address else []\n",
    "    data[\"address\"] = address_details\n",
    "    \n",
    "    return data\n"
   ]
  },
  {
   "cell_type": "code",
   "execution_count": 4,
   "metadata": {},
   "outputs": [
    {
     "name": "stdout",
     "output_type": "stream",
     "text": [
      "connected\n"
     ]
    }
   ],
   "source": [
    "import pymongo\n",
    "\n",
    "# Connection to Mongo DB\n",
    "try:\n",
    "    conn=pymongo.MongoClient()\n",
    "    print(\"connected\")\n",
    "except pymongo.errors.ConnectionFailure as e:\n",
    "    print (\"Could not connect to MongoDB: %s\" % e )\n",
    "\n",
    "db = conn[\"idealista\"]\n",
    "collection = db[\"house_data\"]\n",
    "urls = db[\"urls\"]\n"
   ]
  },
  {
   "cell_type": "code",
   "execution_count": 5,
   "metadata": {},
   "outputs": [
    {
     "name": "stderr",
     "output_type": "stream",
     "text": [
      "/home/egon/anaconda3/lib/python3.7/site-packages/ipykernel_launcher.py:1: DeprecationWarning: count is deprecated. Use estimated_document_count or count_documents instead. Please note that $where must be replaced by $expr, $near must be replaced by $geoWithin with $center, and $nearSphere must be replaced by $geoWithin with $centerSphere\n",
      "  \"\"\"Entry point for launching an IPython kernel.\n"
     ]
    },
    {
     "data": {
      "text/plain": [
       "21914"
      ]
     },
     "execution_count": 5,
     "metadata": {},
     "output_type": "execute_result"
    }
   ],
   "source": [
    "urls.count()"
   ]
  },
  {
   "cell_type": "code",
   "execution_count": 6,
   "metadata": {},
   "outputs": [],
   "source": [
    "def getHouseId(url): # /inmueble/id/ => id\n",
    "    return url.split(\"/\")[2]\n",
    "    \n",
    "def saveToMongo(houseUrl,data):\n",
    "    house_id = getHouseId(houseUrl)\n",
    "    data[\"id\"] = house_id\n",
    "    collection.replace_one( { \"id\" : house_id },   data, upsert = True )\n",
    "    \n",
    "def saveUrl(source,url):\n",
    "    urls.insert_one( {\"source\":source , \"url\":url})\n",
    "    "
   ]
  },
  {
   "cell_type": "code",
   "execution_count": 7,
   "metadata": {},
   "outputs": [],
   "source": [
    "# Method 1. Go to the first house page. From there go to the next indicated at \"Siguiente\"\n",
    "#Not a good solution. Must keep browser open all the time.\n",
    "#If browser closes you have to restart because you don't have a list of houses\n",
    "\n",
    "def getNextHouseFromSource(page): #needed sometimes: for some reason getNextHouse fails\n",
    "    text_next = 'class=\"btn nav next icon-arrow-right-after\" href=\"'\n",
    "    pstart = page.find(text_next)\n",
    "    if pstart==-1:\n",
    "        return None\n",
    "    pstart += len(text_next)\n",
    "    pend = page.find('\"', pstart)+1\n",
    "    return page[pstart:pend]\n",
    "\n",
    "def getNextHouse(page,tree):\n",
    "    next_link = tree.cssselect(\".icon-arrow-right-after\")\n",
    "    next_house = next_link[0].get(\"href\") if next_link else None\n",
    "    if next_house is None: \n",
    "        next_house = getNextHouseFromSource(page)\n",
    "    return next_house\n",
    "    \n",
    "def getHouses(from_start=True):   \n",
    "    if from_start:\n",
    "        p = loadPage(\"https://www.idealista.com/venta-viviendas/barcelona-barcelona/\")\n",
    "        t = loadPageTree(p)\n",
    "        time.sleep(3)\n",
    "        next_house = firstHouse(t)\n",
    "    else:\n",
    "        p = browser.page_source\n",
    "        t = loadPageTree(p)\n",
    "        next_house = getNextHouse(p,t)\n",
    "        \n",
    "    while next_house:\n",
    "        print(next_house,end=\" \")\n",
    "        p = loadPage(\"https://www.idealista.com\"+next_house)\n",
    "        t = loadPageTree(p)\n",
    "        data = getHouseData(t)\n",
    "        saveToMongo(next_house,data)\n",
    "        time.sleep(random.randint(43,59)+10*random.random())\n",
    "        next_house = getNextHouse(p,t)\n",
    "    print(\"done\")\n",
    "       "
   ]
  },
  {
   "cell_type": "code",
   "execution_count": 22,
   "metadata": {},
   "outputs": [],
   "source": [
    "#Method 2. First retrieve the list of all houses\n",
    "#Then you can get houses' data one by one by number\n",
    "#This way you can stop and restart the browser as needed\n",
    "\n",
    "def pause():\n",
    "    time.sleep(random.randint(30,59)+8*random.random())\n",
    "    \n",
    "def pageFormat(start,end,page):\n",
    "    res = \"https://www.idealista.com/venta-viviendas/barcelona-barcelona/\"\n",
    "    res += \"con-precio-hasta_{},precio-desde_{}/{}\".format(\n",
    "        end,start, \"pagina-{}.htm\".format(page) if page>1 else \"\")\n",
    "    return res\n",
    "\n",
    "def saveUrls(tree):\n",
    "    #global listHouses (not needed anymore, using mongo)\n",
    "    l = getListOfHouses(tree)\n",
    "    #listHouses.extend(l)\n",
    "    for url in l: \n",
    "        saveUrl(\"idealista\",url)\n",
    "    return len(l)\n",
    "        \n",
    "def getAllHouseUrls(startPrice=50000,incPrice=30000,finalPrice=3000000,startPage=1,loopLimit=100):\n",
    "    pageNumber = startPage\n",
    "    price = startPrice\n",
    "    incr = incPrice\n",
    "    zeros = 0 # sanity check. If something goes wrong, there will be many 0 urls in sequence\n",
    "    \n",
    "    while (price<finalPrice) and (zeros<3) and (loopLimit>0):\n",
    "        pageUrl = pageFormat(price,price+incr-1,pageNumber)\n",
    "        print(pageUrl,end=\"\")\n",
    "        p = loadPage(pageUrl)\n",
    "        t = loadPageTree(p)\n",
    "        l = saveUrls(t)\n",
    "        print(\" (\",l,\")\",loopLimit)\n",
    "        zeros = 0 if l>0 else zeros+1\n",
    "        pause()\n",
    "        if isLastPage(t):\n",
    "            price += incr\n",
    "            pageNumber = 1\n",
    "        else:\n",
    "            pageNumber += 1\n",
    "        loopLimit -= 1\n",
    "    print(\"done\")        \n",
    "       "
   ]
  },
  {
   "cell_type": "code",
   "execution_count": 9,
   "metadata": {},
   "outputs": [],
   "source": [
    "def getHousesData(loopLimit=100,browser=browser):\n",
    "    if browser is None:\n",
    "        browser = newBrowser()\n",
    "        time.sleep(5)\n",
    "    # create a list of ursl, after a while the cursor is not available anymore\n",
    "    l_urls = [url[\"url\"] for url in urls.find() if \"removed\" not in url]\n",
    "    random.shuffle(l_urls) # useful if threading\n",
    "    #print(len(l_urls))\n",
    "    for url in l_urls: \n",
    "        houseId = getHouseId(url)\n",
    "        if collection.find({\"id\":houseId}).count()==0:\n",
    "            print(\"(\",houseId,\")\",end=\"\")\n",
    "            p = loadPage(\"https://www.idealista.com\"+url,browser)\n",
    "            remove_it = (\"ya no está publicado en idealista\" in p) or (\"no hay ningún anuncio con ese código\" in p)\n",
    "            if remove_it:\n",
    "                urls.update_one({\"url\":url},{\"$set\":{\"removed\":True}})\n",
    "                print(\"(removed)\",end=\"\")\n",
    "                pause()\n",
    "                continue\n",
    "            t = loadPageTree(p)\n",
    "            data = getHouseData(t)\n",
    "            if data.get(\"price\"):\n",
    "                saveToMongo(url,data)\n",
    "            else:\n",
    "                print(\"error\")\n",
    "                return False\n",
    "            pause()            \n",
    "            loopLimit -= 1        \n",
    "            if loopLimit<1: break\n",
    "    print(\"done\") \n",
    "    return True\n",
    "        "
   ]
  },
  {
   "cell_type": "code",
   "execution_count": 10,
   "metadata": {},
   "outputs": [],
   "source": [
    "from threading import Thread\n",
    "t=[]\n"
   ]
  },
  {
   "cell_type": "code",
   "execution_count": 23,
   "metadata": {
    "scrolled": false
   },
   "outputs": [],
   "source": [
    "def doIt():\n",
    "    browser = newBrowser()\n",
    "    while getHousesData(25,browser):        \n",
    "        time.sleep(300)\n",
    "    browser.close()"
   ]
  },
  {
   "cell_type": "code",
   "execution_count": 37,
   "metadata": {},
   "outputs": [
    {
     "name": "stderr",
     "output_type": "stream",
     "text": [
      "/home/egon/anaconda3/lib/python3.7/site-packages/ipykernel_launcher.py:11: DeprecationWarning: count is deprecated. Use Collection.count_documents instead.\n",
      "  # This is added back by InteractiveShellApp.init_path()\n"
     ]
    },
    {
     "name": "stdout",
     "output_type": "stream",
     "text": [
      "( 38139448 )( 87749244 )( 87771772 )( 87533994 )( 87323774 )( 87423263 )(removed)"
     ]
    }
   ],
   "source": [
    "for i in range(3):\n",
    "    tr = Thread(target=doIt)\n",
    "    t.append(tr)\n",
    "    tr.start()\n",
    "    time.sleep(1)"
   ]
  },
  {
   "cell_type": "markdown",
   "metadata": {},
   "source": [
    "# using proxy with selenium\n",
    "\n",
    "myProxy = \"localhost:9050\" \n",
    "\n",
    "profile = webdriver.FirefoxProfile() \n",
    "\n",
    "profile.set_preference(\"network.proxy.type\", 1)\n",
    "\n",
    "profile.set_preference(\"network.proxy.socks\", \"127.0.0.1\")\n",
    "\n",
    "profile.set_preference(\"network.proxy.socks_port\", 9050)\n",
    "\n",
    "profile.update_preferences() \n",
    "\n",
    "browser = webdriver.Firefox(firefox_profile=profile)\n"
   ]
  },
  {
   "cell_type": "code",
   "execution_count": 38,
   "metadata": {},
   "outputs": [
    {
     "data": {
      "text/plain": [
       "[<Thread(Thread-7, started 140666466719488)>,\n",
       " <Thread(Thread-9, started 140666449671936)>,\n",
       " <Thread(Thread-11, started 140666431313664)>,\n",
       " <Thread(Thread-15, started 140666458326784)>,\n",
       " <Thread(Thread-16, started 140666483504896)>,\n",
       " <Thread(Thread-18, started 140666441279232)>,\n",
       " <Thread(Thread-19, started 140666475112192)>,\n",
       " <Thread(Thread-20, started 140666775451392)>]"
      ]
     },
     "execution_count": 38,
     "metadata": {},
     "output_type": "execute_result"
    },
    {
     "name": "stderr",
     "output_type": "stream",
     "text": [
      "/home/egon/anaconda3/lib/python3.7/site-packages/ipykernel_launcher.py:11: DeprecationWarning: count is deprecated. Use Collection.count_documents instead.\n",
      "  # This is added back by InteractiveShellApp.init_path()\n"
     ]
    },
    {
     "name": "stdout",
     "output_type": "stream",
     "text": [
      "( 87237788 )( 87886663 )(removed)( 83633726 )( 87777802 )( 86814440 )( 86953528 )( 87190680 )( 87824606 )( 87265229 )( 83197351 )( 87234300 )( 87228090 )(removed)( 87138502 )(removed)( 87065915 )( 87302869 )( 85279453 )( 85891074 )( 87244243 )( 86784589 )( 36877463 )( 87678064 )( 87756881 )( 83037658 )( 85873552 )( 84103685 )( 87874384 )(removed)( 87359977 )( 85291352 )( 87895566 )( 87840196 )( 87068086 )( 84113230 )( 87263481 )(removed)( 27684466 )( 87039560 )( 87842029 )( 87267384 )( 87970407 )( 84938957 )( 87884335 )( 37708039 )( 87355407 )( 87717417 )( 85119865 )( 87171554 )( 87763775 )( 87885804 )( 85986381 )( 85924039 )(removed)done\n",
      "( 85977769 )( 87916814 )(removed)( 87889485 )( 35664089 )( 87522461 )( 87445549 )( 85957215 )( 87819048 )( 85494199 )( 84272822 )( 86708983 )(removed)( 85875624 )( 87970624 )( 83647628 )( 86611898 )( 87752636 )( 84890831 )( 87822770 )( 87923852 )( 87633241 )(removed)( 87522474 )( 86781430 )( 87520595 )( 87922184 )(removed)( 40326252 )( 87475622 )( 84918062 )( 87674660 )( 84550404 )( 86061218 )( 87349926 )(removed)( 83852477 )( 87842152 )( 87238253 )( 87697562 )done\n",
      "( 82994223 )( 39716537 )( 87509891 )( 87108077 )( 38137973 )( 83868800 )( 85868314 )( 87936740 )( 87807176 )(removed)( 87453993 )( 83729848 )( 87313060 )( 87494051 )( 87349926 )(removed)( 87246247 )(removed)( 84379936 )( 87690405 )( 87413576 )done\n",
      "( 81507191 )( 84628797 )( 85470203 )( 87937393 )( 87474809 )( 83216509 )( 87711320 )( 86199110 )( 84119197 )( 86512556 )( 86034270 )( 85907326 )( 87230486 )( 86602279 )( 87933124 )( 87526605 )"
     ]
    },
    {
     "name": "stderr",
     "output_type": "stream",
     "text": [
      "Exception in thread Thread-11:\n",
      "Traceback (most recent call last):\n",
      "  File \"/home/egon/anaconda3/lib/python3.7/threading.py\", line 917, in _bootstrap_inner\n",
      "    self.run()\n",
      "  File \"/home/egon/anaconda3/lib/python3.7/threading.py\", line 865, in run\n",
      "    self._target(*self._args, **self._kwargs)\n",
      "  File \"<ipython-input-11-054180f8e0bd>\", line 3, in doIt\n",
      "    while getHousesData(25,browser):\n",
      "  File \"<ipython-input-9-07495286645d>\", line 13, in getHousesData\n",
      "    p = loadPage(\"https://www.idealista.com\"+url,browser)\n",
      "  File \"<ipython-input-2-958e117ab251>\", line 9, in loadPage\n",
      "    browser.get(page)\n",
      "  File \"/home/egon/anaconda3/lib/python3.7/site-packages/selenium/webdriver/remote/webdriver.py\", line 333, in get\n",
      "    self.execute(Command.GET, {'url': url})\n",
      "  File \"/home/egon/anaconda3/lib/python3.7/site-packages/selenium/webdriver/remote/webdriver.py\", line 321, in execute\n",
      "    self.error_handler.check_response(response)\n",
      "  File \"/home/egon/anaconda3/lib/python3.7/site-packages/selenium/webdriver/remote/errorhandler.py\", line 242, in check_response\n",
      "    raise exception_class(message, screen, stacktrace)\n",
      "selenium.common.exceptions.TimeoutException: Message: Timeout loading page after 300000ms\n",
      "\n",
      "\n",
      "Exception in thread Thread-20:\n",
      "Traceback (most recent call last):\n",
      "  File \"/home/egon/anaconda3/lib/python3.7/threading.py\", line 917, in _bootstrap_inner\n",
      "    self.run()\n",
      "  File \"/home/egon/anaconda3/lib/python3.7/threading.py\", line 865, in run\n",
      "    self._target(*self._args, **self._kwargs)\n",
      "  File \"<ipython-input-23-4a592af27460>\", line 3, in doIt\n",
      "    while getHousesData(25,browser):\n",
      "  File \"<ipython-input-9-07495286645d>\", line 13, in getHousesData\n",
      "    p = loadPage(\"https://www.idealista.com\"+url,browser)\n",
      "  File \"<ipython-input-2-958e117ab251>\", line 9, in loadPage\n",
      "    browser.get(page)\n",
      "  File \"/home/egon/anaconda3/lib/python3.7/site-packages/selenium/webdriver/remote/webdriver.py\", line 333, in get\n",
      "    self.execute(Command.GET, {'url': url})\n",
      "  File \"/home/egon/anaconda3/lib/python3.7/site-packages/selenium/webdriver/remote/webdriver.py\", line 321, in execute\n",
      "    self.error_handler.check_response(response)\n",
      "  File \"/home/egon/anaconda3/lib/python3.7/site-packages/selenium/webdriver/remote/errorhandler.py\", line 242, in check_response\n",
      "    raise exception_class(message, screen, stacktrace)\n",
      "selenium.common.exceptions.TimeoutException: Message: Timeout loading page after 300000ms\n",
      "\n",
      "\n",
      "Exception in thread Thread-19:\n",
      "Traceback (most recent call last):\n",
      "  File \"/home/egon/anaconda3/lib/python3.7/threading.py\", line 917, in _bootstrap_inner\n",
      "    self.run()\n",
      "  File \"/home/egon/anaconda3/lib/python3.7/threading.py\", line 865, in run\n",
      "    self._target(*self._args, **self._kwargs)\n",
      "  File \"<ipython-input-23-4a592af27460>\", line 3, in doIt\n",
      "    while getHousesData(25,browser):\n",
      "  File \"<ipython-input-9-07495286645d>\", line 13, in getHousesData\n",
      "    p = loadPage(\"https://www.idealista.com\"+url,browser)\n",
      "  File \"<ipython-input-2-958e117ab251>\", line 9, in loadPage\n",
      "    browser.get(page)\n",
      "  File \"/home/egon/anaconda3/lib/python3.7/site-packages/selenium/webdriver/remote/webdriver.py\", line 333, in get\n",
      "    self.execute(Command.GET, {'url': url})\n",
      "  File \"/home/egon/anaconda3/lib/python3.7/site-packages/selenium/webdriver/remote/webdriver.py\", line 321, in execute\n",
      "    self.error_handler.check_response(response)\n",
      "  File \"/home/egon/anaconda3/lib/python3.7/site-packages/selenium/webdriver/remote/errorhandler.py\", line 242, in check_response\n",
      "    raise exception_class(message, screen, stacktrace)\n",
      "selenium.common.exceptions.TimeoutException: Message: Timeout loading page after 300000ms\n",
      "\n",
      "\n",
      "Exception in thread Thread-7:\n",
      "Traceback (most recent call last):\n",
      "  File \"/home/egon/anaconda3/lib/python3.7/threading.py\", line 917, in _bootstrap_inner\n",
      "    self.run()\n",
      "  File \"/home/egon/anaconda3/lib/python3.7/threading.py\", line 865, in run\n",
      "    self._target(*self._args, **self._kwargs)\n",
      "  File \"<ipython-input-11-054180f8e0bd>\", line 3, in doIt\n",
      "    while getHousesData(25,browser):\n",
      "  File \"<ipython-input-9-07495286645d>\", line 13, in getHousesData\n",
      "    p = loadPage(\"https://www.idealista.com\"+url,browser)\n",
      "  File \"<ipython-input-2-958e117ab251>\", line 9, in loadPage\n",
      "    browser.get(page)\n",
      "  File \"/home/egon/anaconda3/lib/python3.7/site-packages/selenium/webdriver/remote/webdriver.py\", line 333, in get\n",
      "    self.execute(Command.GET, {'url': url})\n",
      "  File \"/home/egon/anaconda3/lib/python3.7/site-packages/selenium/webdriver/remote/webdriver.py\", line 321, in execute\n",
      "    self.error_handler.check_response(response)\n",
      "  File \"/home/egon/anaconda3/lib/python3.7/site-packages/selenium/webdriver/remote/errorhandler.py\", line 242, in check_response\n",
      "    raise exception_class(message, screen, stacktrace)\n",
      "selenium.common.exceptions.TimeoutException: Message: Timeout loading page after 300000ms\n",
      "\n",
      "\n"
     ]
    },
    {
     "name": "stdout",
     "output_type": "stream",
     "text": [
      "( 87196537 )"
     ]
    },
    {
     "name": "stderr",
     "output_type": "stream",
     "text": [
      "Exception in thread Thread-9:\n",
      "Traceback (most recent call last):\n",
      "  File \"/home/egon/anaconda3/lib/python3.7/threading.py\", line 917, in _bootstrap_inner\n",
      "    self.run()\n",
      "  File \"/home/egon/anaconda3/lib/python3.7/threading.py\", line 865, in run\n",
      "    self._target(*self._args, **self._kwargs)\n",
      "  File \"<ipython-input-11-054180f8e0bd>\", line 3, in doIt\n",
      "    while getHousesData(25,browser):\n",
      "  File \"<ipython-input-9-07495286645d>\", line 13, in getHousesData\n",
      "    p = loadPage(\"https://www.idealista.com\"+url,browser)\n",
      "  File \"<ipython-input-2-958e117ab251>\", line 9, in loadPage\n",
      "    browser.get(page)\n",
      "  File \"/home/egon/anaconda3/lib/python3.7/site-packages/selenium/webdriver/remote/webdriver.py\", line 333, in get\n",
      "    self.execute(Command.GET, {'url': url})\n",
      "  File \"/home/egon/anaconda3/lib/python3.7/site-packages/selenium/webdriver/remote/webdriver.py\", line 321, in execute\n",
      "    self.error_handler.check_response(response)\n",
      "  File \"/home/egon/anaconda3/lib/python3.7/site-packages/selenium/webdriver/remote/errorhandler.py\", line 242, in check_response\n",
      "    raise exception_class(message, screen, stacktrace)\n",
      "selenium.common.exceptions.TimeoutException: Message: Timeout loading page after 300000ms\n",
      "\n",
      "\n"
     ]
    },
    {
     "name": "stdout",
     "output_type": "stream",
     "text": [
      "( 87179270 )( 87125199 )( 87021871 )(removed)( 87838179 )( 87969244 )(removed)( 87671994 )( 85207398 )(removed)( 87504610 )( 87967961 )( 87836018 )(removed)( 87543989 )( 87823445 )( 86731807 )( 87058465 )( 86947101 )( 39346908 )(removed)( 82937022 )( 87437233 )( 87807766 )( 86426143 )( 87870677 )(removed)( 84445971 )( 82532727 )( 82631470 )( 86345121 )( 87100531 )(removed)( 86218787 )( 84901874 )( 87115486 )(removed)( 85525116 )done\n",
      "( 84065430 )(removed)( 83598861 )( 81167957 )( 86141149 )( 35843702 )( 87511288 )(removed)( 87805835 )(removed)( 86231738 )( 87705158 )( 84942036 )( 84520925 )( 87870472 )( 85947967 )( 81965812 )( 38429513 )( 87243991 )( 87921200 )( 85495690 )( 87852629 )( 87940426 )(removed)( 85182078 )( 87410560 )( 85341775 )( 87729116 )( 86394746 )( 82273810 )( 39184627 )( 35970578 )( 87383137 )( 87753626 )(removed)( 86427726 )( 87111535 )"
     ]
    }
   ],
   "source": [
    "for i,tr in enumerate(t):\n",
    "    if not tr.isAlive():\n",
    "        del(t[i])\n",
    "t"
   ]
  },
  {
   "cell_type": "code",
   "execution_count": null,
   "metadata": {},
   "outputs": [],
   "source": []
  }
 ],
 "metadata": {
  "kernelspec": {
   "display_name": "Python 3",
   "language": "python",
   "name": "python3"
  },
  "language_info": {
   "codemirror_mode": {
    "name": "ipython",
    "version": 3
   },
   "file_extension": ".py",
   "mimetype": "text/x-python",
   "name": "python",
   "nbconvert_exporter": "python",
   "pygments_lexer": "ipython3",
   "version": "3.7.1"
  }
 },
 "nbformat": 4,
 "nbformat_minor": 1
}
