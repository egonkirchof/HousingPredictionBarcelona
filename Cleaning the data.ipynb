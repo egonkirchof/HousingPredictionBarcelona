{
 "cells": [
  {
   "cell_type": "markdown",
   "metadata": {},
   "source": [
    "# Cleaning the data\n",
    "\n",
    "Transforming the data from a mongodb collection to a csv file \n"
   ]
  },
  {
   "cell_type": "code",
   "execution_count": 2,
   "metadata": {},
   "outputs": [
    {
     "name": "stdout",
     "output_type": "stream",
     "text": [
      "connected\n"
     ]
    }
   ],
   "source": [
    "import pymongo\n",
    "\n",
    "# Connection to Mongo DB\n",
    "try:\n",
    "    conn=pymongo.MongoClient()\n",
    "    print(\"connected\")\n",
    "except pymongo.errors.ConnectionFailure as e:\n",
    "    print (\"Could not connect to MongoDB: %s\" % e )\n",
    "\n",
    "db = conn[\"idealista\"]\n",
    "collection = db[\"house_data\"]\n",
    "urls = db[\"urls\"]\n"
   ]
  },
  {
   "cell_type": "code",
   "execution_count": 3,
   "metadata": {},
   "outputs": [],
   "source": [
    "import pandas as pd\n",
    "import math\n",
    "import numpy as np\n",
    "df = pd.DataFrame()"
   ]
  },
  {
   "cell_type": "code",
   "execution_count": 4,
   "metadata": {},
   "outputs": [
    {
     "data": {
      "text/plain": [
       "{'_id': ObjectId('5dece54c833639ed33008205'),\n",
       " 'price': '173.000 €',\n",
       " 'features': [' 35 m² ', ' 2 hab. '],\n",
       " 'description': ' \"En la zona peatonal del barrio de Sant Pere i Santa Caterina encontramos esta propiedad en la segunda planta del edificio antiguo, sin ascensor, típico de la zona. Se trata de un estudio reformado hace unos años con calidades apropiadas para las exigencias de la zona. El piso se vende amueblado tal y como está en las fotos. Puede ser interesante para su alquiler (alrededor de 850€/mes). Ubicado en pleno centro de Barcelona, con todos los servicios cerca, sin necesidad de tener el coche.Ubicado en la mejor y más buscada área del Born, esta obra se encuentra a pocos pasos de Arc de Triomf, Parc de la Ciutadella, muy bien comunicada con transporte público (tren, metro, autobuses).\" ',\n",
       " 'details_house': ['35 m² construidos',\n",
       "  '2 habitaciones',\n",
       "  '1 baño',\n",
       "  'Construido en 1848'],\n",
       " 'details_building': [' Aire acondicionado '],\n",
       " 'energy_class': 'd',\n",
       " 'address': [' ',\n",
       "  ' Barrio Sant Pere - Santa Caterina i la Ribera ',\n",
       "  ' Distrito Ciutat Vella '],\n",
       " 'id': '87013636'}"
      ]
     },
     "execution_count": 4,
     "metadata": {},
     "output_type": "execute_result"
    }
   ],
   "source": [
    "# Exploring the data\n",
    "\n",
    "collection.find_one()"
   ]
  },
  {
   "cell_type": "code",
   "execution_count": 9,
   "metadata": {},
   "outputs": [
    {
     "name": "stdout",
     "output_type": "stream",
     "text": [
      "done\n"
     ]
    }
   ],
   "source": [
    "# checking how to convert price to integer\n",
    "\n",
    "cursor = collection.find({},{\"price\":1})\n",
    "l = []\n",
    "for doc in cursor:\n",
    "    price = doc[\"price\"]\n",
    "    price = price.replace(\"€\",\"\").replace(\".\",\"\")\n",
    "    price = price.strip()\n",
    "    try:\n",
    "        price = int(price)\n",
    "    except:\n",
    "        print(price)\n",
    "        price = 0\n",
    "    l.append(price)\n",
    "\n",
    "df[\"price\"]=l\n",
    "print(\"done\")\n",
    "    "
   ]
  },
  {
   "cell_type": "code",
   "execution_count": 65,
   "metadata": {},
   "outputs": [
    {
     "data": {
      "text/plain": [
       "{'opc.'}"
      ]
     },
     "execution_count": 65,
     "metadata": {},
     "output_type": "execute_result"
    }
   ],
   "source": [
    "# features\n",
    "def append_zero(*lists):\n",
    "    for list in lists:\n",
    "        list.append(0)\n",
    "\n",
    "cursor = collection.find({},{\"features\":1})\n",
    "f =set()\n",
    "m2 = []\n",
    "ascensor = []\n",
    "exterior = []\n",
    "planta = []\n",
    "garaje = []\n",
    "habs = []\n",
    "\n",
    "for doc in cursor:\n",
    "    append_zero(ascensor,exterior,garaje,planta,habs)\n",
    "    last_idx = len(ascensor)-1\n",
    "    for feature in doc[\"features\"]:        \n",
    "        if \"m²\" in feature:\n",
    "            m = feature.strip()\n",
    "            m = feature.split(\" \")[1] \n",
    "            m = m.strip()\n",
    "            m = int(math.floor(float(m)))\n",
    "            m2.append(m)\n",
    "            continue\n",
    "        if \"con ascensor\" in feature:\n",
    "            ascensor[last_idx] = 1\n",
    "        if \"exterior\" in feature:\n",
    "            exterior[last_idx]=1\n",
    "        if \"ª planta\" in feature:\n",
    "            p = feature.split(\"ª planta\")\n",
    "            p = int(p[0])\n",
    "            planta[last_idx] = p\n",
    "            continue        \n",
    "        if \"Garaje incluido\" in feature:\n",
    "            garaje[last_idx] = 1\n",
    "            continue\n",
    "        if \"hab\" in feature:\n",
    "            h = feature.strip()\n",
    "            h = feature.split(\" \")[1]\n",
    "            h = int(h)\n",
    "            habs[last_idx] = h\n",
    "            continue\n",
    "        skip_it = False\n",
    "        for skip in [ \"Bajo\",\"Entreplanta\",\"exterior\",\"interior\",\"ascensor\",\"Garaje\"]:\n",
    "            if skip in feature:\n",
    "                skip_it = True\n",
    "                break\n",
    "        if skip_it: continue\n",
    "        f.add(feature) # untreated feature\n",
    "#df[\"price\"]=l\n",
    "f\n",
    "    "
   ]
  },
  {
   "cell_type": "code",
   "execution_count": 66,
   "metadata": {},
   "outputs": [
    {
     "data": {
      "text/plain": [
       "(14367, 14367, 14367, 14367, 14367, 14367)"
      ]
     },
     "execution_count": 66,
     "metadata": {},
     "output_type": "execute_result"
    }
   ],
   "source": [
    "len(m2),len(planta),len(ascensor),len(exterior),len(garaje),len(habs)"
   ]
  },
  {
   "cell_type": "code",
   "execution_count": 52,
   "metadata": {},
   "outputs": [
    {
     "data": {
      "text/plain": [
       "{'Chimenea': 1}"
      ]
     },
     "execution_count": 52,
     "metadata": {},
     "output_type": "execute_result"
    }
   ],
   "source": [
    "# details house\n",
    "\n",
    "cursor = collection.find({},{\"details_house\":1})\n",
    "dh = {}\n",
    "construido_en = []\n",
    "banos = []\n",
    "calefacion_central = []\n",
    "calefacion_individual = []\n",
    "es_casa = []\n",
    "orientacion_sur = []\n",
    "orientacion_oeste = []\n",
    "orientacion_este = []\n",
    "orientacion_norte = []\n",
    "buen_estado = []\n",
    "obra_nueva = []\n",
    "movilidad_reducida = []\n",
    "balcon = []\n",
    "armarios = []\n",
    "terraza = []\n",
    "trastero = []\n",
    "\n",
    "def set_to_one(feature,*l_tests):\n",
    "    for text,var in l_tests:\n",
    "        if text in feature:\n",
    "            if var:\n",
    "                var[len(var)-1] = 1\n",
    "            return True\n",
    "    return False\n",
    "\n",
    "for doc in cursor:\n",
    "    append_zero(terraza, trastero, armarios,balcon,buen_estado,obra_nueva,\n",
    "                orientacion_sur, orientacion_oeste, orientacion_este,\n",
    "                movilidad_reducida,orientacion_norte, calefacion_central, calefacion_individual,es_casa)\n",
    "    banos.append(1)\n",
    "    construido_en.append(np.nan)\n",
    "    last_idx = len(construido_en)-1\n",
    "    for feature in doc[\"details_house\"]:        \n",
    "        if \"m²\" in feature:\n",
    "            continue            \n",
    "        if \"Construido en \" in feature:\n",
    "            construido_en[last_idx] = int(feature.split(\" en \")[1])\n",
    "            continue\n",
    "        if \"baño\" in feature:\n",
    "            try: \n",
    "                banos[last_idx] = int(feature.split(\"baño\")[0])\n",
    "            except:\n",
    "                banos[last_idx] = 0\n",
    "            continue\n",
    "        if \"Casa\" in feature or \"Chalet\" in feature or \"Finca\" in feature:\n",
    "                es_casa[last_idx] = 1\n",
    "                continue        \n",
    "        if \"Orientación\" in feature:\n",
    "            if \"norte\" in feature:\n",
    "                orientacion_norte[last_idx] = 1           \n",
    "            if \"sur\" in feature:\n",
    "                orientacion_sur[last_idx] = 1\n",
    "            if \"oeste\" in feature:\n",
    "                orientacion_oeste[last_idx] = 1           \n",
    "            if \"este\" in feature:\n",
    "                orientacion_este[last_idx] = 1\n",
    "            continue\n",
    "            \n",
    "        if set_to_one(feature, (\"Calefacción central\",calefacion_central),\n",
    "                        (\"Calefacción individual\", calefacion_individual),\n",
    "                     (\"habitaci\",None),(\"obra nueva\",obra_nueva),\n",
    "                      (\"buen estado\", buen_estado),\n",
    "                      (\"movilidad reducida\" , movilidad_reducida ) ,\n",
    "                      (\"Balcón\", balcon ), (\"Armarios\",armarios), \n",
    "                      (\"Terraza\",terraza), (\"Trastero\",trastero) ):\n",
    "            continue\n",
    "            \n",
    "        skip_it = False\n",
    "        for skip in [ \"planta\",\"Certificación energética\",\"garaje\",\"ascensor\",\"Garaje\",\n",
    "                     \"calefacción\",\"Segunda mano\"]:\n",
    "            if skip in feature:\n",
    "                skip_it = True\n",
    "                break\n",
    "        if skip_it: continue\n",
    "        dh[feature] = dh.get(feature,0) + 1 # untreated feature\n",
    "    \n",
    "\n",
    "dh"
   ]
  },
  {
   "cell_type": "code",
   "execution_count": 74,
   "metadata": {},
   "outputs": [
    {
     "data": {
      "text/plain": [
       "{' Planta 1ª ': 1}"
      ]
     },
     "execution_count": 74,
     "metadata": {},
     "output_type": "execute_result"
    }
   ],
   "source": [
    "#details building\n",
    "\n",
    "cursor = collection.find({},{\"details_building\":1})\n",
    "db = {}\n",
    "jardin = []\n",
    "piscina = []\n",
    "aire = []\n",
    "\n",
    "idx = 0 \n",
    "for doc in cursor:\n",
    "    append_zero(piscina,jardin,aire)\n",
    "    last_idx = len(piscina)\n",
    "    for feature in doc[\"details_building\"]:        \n",
    "        if \"Planta\" in feature and idx<len(planta):\n",
    "            if planta[idx]==0:\n",
    "                p = feature.split(\"ª\")[0].split(\" \")[2]\n",
    "                print(p)\n",
    "                planta[idx] = int(p)\n",
    "            continue     \n",
    "            \n",
    "        if set_to_one(feature, (\"Piscina\", piscina), (\"Aire\", aire),(\"Jardín\",jardin),(\"Zonas verdes\",jardin) ):\n",
    "            continue\n",
    "            \n",
    "        skip_it = False\n",
    "        for skip in [ \"Bajo\",\"ótano\",\"ascensor\",\"Entreplanta\",\"exterior\",\"interior\"]:\n",
    "            if skip in feature:\n",
    "                skip_it = True\n",
    "                break\n",
    "        if skip_it: continue\n",
    "        db[feature] = db.get(feature,0) + 1 # untreated feature\n",
    "    idx += 1\n",
    "\n",
    "db"
   ]
  },
  {
   "cell_type": "code",
   "execution_count": 68,
   "metadata": {},
   "outputs": [
    {
     "data": {
      "text/plain": [
       "14367"
      ]
     },
     "execution_count": 68,
     "metadata": {},
     "output_type": "execute_result"
    }
   ],
   "source": [
    "idx"
   ]
  },
  {
   "cell_type": "code",
   "execution_count": 56,
   "metadata": {},
   "outputs": [
    {
     "ename": "AttributeError",
     "evalue": "'dict' object has no attribute 'a'",
     "output_type": "error",
     "traceback": [
      "\u001b[0;31m---------------------------------------------------------------------------\u001b[0m",
      "\u001b[0;31mAttributeError\u001b[0m                            Traceback (most recent call last)",
      "\u001b[0;32m<ipython-input-56-0440535e48e3>\u001b[0m in \u001b[0;36m<module>\u001b[0;34m\u001b[0m\n\u001b[0;32m----> 1\u001b[0;31m \u001b[0ma\u001b[0m\u001b[0;34m.\u001b[0m\u001b[0ma\u001b[0m \u001b[0;34m=\u001b[0m \u001b[0;36m3\u001b[0m\u001b[0;34m\u001b[0m\u001b[0;34m\u001b[0m\u001b[0m\n\u001b[0m\u001b[1;32m      2\u001b[0m \u001b[0ma\u001b[0m\u001b[0;34m\u001b[0m\u001b[0;34m\u001b[0m\u001b[0m\n",
      "\u001b[0;31mAttributeError\u001b[0m: 'dict' object has no attribute 'a'"
     ]
    }
   ],
   "source": [
    "a.a = 3\n",
    "a"
   ]
  },
  {
   "cell_type": "code",
   "execution_count": 37,
   "metadata": {},
   "outputs": [
    {
     "data": {
      "text/plain": [
       "2"
      ]
     },
     "execution_count": 37,
     "metadata": {},
     "output_type": "execute_result"
    }
   ],
   "source": [
    "a.get(\"aa\",0) + 2"
   ]
  },
  {
   "cell_type": "code",
   "execution_count": 42,
   "metadata": {},
   "outputs": [
    {
     "data": {
      "text/plain": [
       "['__class__',\n",
       " '__contains__',\n",
       " '__delattr__',\n",
       " '__delitem__',\n",
       " '__dir__',\n",
       " '__doc__',\n",
       " '__eq__',\n",
       " '__format__',\n",
       " '__ge__',\n",
       " '__getattribute__',\n",
       " '__getitem__',\n",
       " '__gt__',\n",
       " '__hash__',\n",
       " '__init__',\n",
       " '__init_subclass__',\n",
       " '__iter__',\n",
       " '__le__',\n",
       " '__len__',\n",
       " '__lt__',\n",
       " '__ne__',\n",
       " '__new__',\n",
       " '__reduce__',\n",
       " '__reduce_ex__',\n",
       " '__repr__',\n",
       " '__setattr__',\n",
       " '__setitem__',\n",
       " '__sizeof__',\n",
       " '__str__',\n",
       " '__subclasshook__',\n",
       " 'clear',\n",
       " 'copy',\n",
       " 'fromkeys',\n",
       " 'get',\n",
       " 'items',\n",
       " 'keys',\n",
       " 'pop',\n",
       " 'popitem',\n",
       " 'setdefault',\n",
       " 'update',\n",
       " 'values']"
      ]
     },
     "execution_count": 42,
     "metadata": {},
     "output_type": "execute_result"
    }
   ],
   "source": [
    "dir(a)"
   ]
  },
  {
   "cell_type": "code",
   "execution_count": null,
   "metadata": {},
   "outputs": [],
   "source": []
  }
 ],
 "metadata": {
  "kernelspec": {
   "display_name": "Python 3",
   "language": "python",
   "name": "python3"
  },
  "language_info": {
   "codemirror_mode": {
    "name": "ipython",
    "version": 3
   },
   "file_extension": ".py",
   "mimetype": "text/x-python",
   "name": "python",
   "nbconvert_exporter": "python",
   "pygments_lexer": "ipython3",
   "version": "3.7.1"
  }
 },
 "nbformat": 4,
 "nbformat_minor": 2
}
